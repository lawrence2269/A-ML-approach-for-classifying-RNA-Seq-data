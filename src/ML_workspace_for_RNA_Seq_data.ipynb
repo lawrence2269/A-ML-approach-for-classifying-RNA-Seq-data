{
 "cells": [
  {
   "cell_type": "markdown",
   "id": "e9ff7382",
   "metadata": {},
   "source": [
    "### <center>A machine learning approach to classify cancer genes and  cancer-associated immune genes in a Next-generation RNA Seq</center>\n",
    "\n",
    "#### Authors\n",
    "* Lawrence Thanakumar Rajappa (**IDA, Linköping University, Linköping**)\n",
    "* krzysztof Bartoszek (**STIMA,Linköping University, Linköping**)\n",
    "* Jenny Persson (**Molecular Biology, Umeå University, Umeå**)\n",
    "\n",
    "#### Abstract\n",
    "<p align=\"justify\">\n",
    "In this study, we aim to predict the invasiveness of cancer subtypes by using a supervised and unsupervised machine learning approach. We will base on the next-generation RNA sequence data of cancer cells and cancer-associated immune cells to classify the cancerous cells from immune cells in the given samples taken from cancer patients and compare the classification/prediction performance of machine learning models such as SVM, decision tree, random forest, hierarchical clustering, etc. and choose the model that performs better. \n",
    "\n",
    "The evolution of genomic sequencing technology has led researchers to perform various experiments to find a cure for various genetic diseases such as cancer. The advent of Artificial Intelligence, especially in the healthcare sector has paved the way to numerous solutions such as drug discovery, cost-effective treatment for patients, etc. which would be beneficial for pharmaceutical organizations, hospitals, and researchers to perform their experiments at a fast pace. Further, Next-generation RNA sequencing data has helped to find the relationship between gene expression profiles and different developmental stages of a cell or a disease in an efficient and cost-effective approach with higher accuracy. There are various methodologies mentioned in various literature related to a cure for cancer, still, the fatality rate of cancer cannot be reduced. The machine learning approach helps us to understand the complexities and processes of cancer samples that lead to the development of effective cancer treatment/drugs in a reliable, fast, and efficient way.</p>\n"
   ]
  },
  {
   "cell_type": "markdown",
   "id": "dec77455",
   "metadata": {},
   "source": [
    "### Loading required libraries"
   ]
  },
  {
   "cell_type": "code",
   "execution_count": 1,
   "id": "7fbd2e1e-55c9-4061-a5db-e3d1877ba87f",
   "metadata": {},
   "outputs": [],
   "source": [
    "%matplotlib inline\n",
    "# Data loading and manipulation libraries\n",
    "import pandas as pd\n",
    "import numpy as np\n",
    "\n",
    "# Visualization libraries\n",
    "import seaborn as sns\n",
    "import matplotlib\n",
    "import matplotlib.pyplot as plt\n",
    "import graphviz \n",
    "\n",
    "# ML algorithms libraries\n",
    "from sklearn import tree # Decision tree\n",
    "from sklearn.ensemble import RandomForestClassifier # Random Forest\n",
    "from sklearn import svm # SVM"
   ]
  },
  {
   "cell_type": "markdown",
   "id": "37ac15c8",
   "metadata": {},
   "source": [
    "### Loading the data"
   ]
  },
  {
   "cell_type": "code",
   "execution_count": 2,
   "id": "0ac53a0a",
   "metadata": {},
   "outputs": [],
   "source": [
    "gene_data = pd.read_csv(\"12_Sample_Gene_List_Updated_with_labels.csv\", index_col=False)"
   ]
  },
  {
   "cell_type": "code",
   "execution_count": 3,
   "id": "d58d1f06",
   "metadata": {},
   "outputs": [],
   "source": [
    "gene_data = gene_data.drop([\"Unnamed: 0\"], axis=1)"
   ]
  },
  {
   "cell_type": "code",
   "execution_count": 4,
   "id": "4459636b",
   "metadata": {},
   "outputs": [
    {
     "data": {
      "text/html": [
       "<div>\n",
       "<style scoped>\n",
       "    .dataframe tbody tr th:only-of-type {\n",
       "        vertical-align: middle;\n",
       "    }\n",
       "\n",
       "    .dataframe tbody tr th {\n",
       "        vertical-align: top;\n",
       "    }\n",
       "\n",
       "    .dataframe thead th {\n",
       "        text-align: right;\n",
       "    }\n",
       "</style>\n",
       "<table border=\"1\" class=\"dataframe\">\n",
       "  <thead>\n",
       "    <tr style=\"text-align: right;\">\n",
       "      <th></th>\n",
       "      <th>Genes</th>\n",
       "      <th>hgnc_symbol</th>\n",
       "      <th>baseMean</th>\n",
       "      <th>log2FoldChange</th>\n",
       "      <th>lfcSE</th>\n",
       "      <th>stat</th>\n",
       "      <th>pvalue</th>\n",
       "      <th>padj</th>\n",
       "      <th>DR_UR</th>\n",
       "      <th>Type</th>\n",
       "    </tr>\n",
       "  </thead>\n",
       "  <tbody>\n",
       "    <tr>\n",
       "      <th>347</th>\n",
       "      <td>ENSG00000280303</td>\n",
       "      <td>ERICD</td>\n",
       "      <td>73.842639</td>\n",
       "      <td>9.181362</td>\n",
       "      <td>0.861248</td>\n",
       "      <td>10.660533</td>\n",
       "      <td>0.000000e+00</td>\n",
       "      <td>0.000000e+00</td>\n",
       "      <td>UR</td>\n",
       "      <td>Cancer</td>\n",
       "    </tr>\n",
       "    <tr>\n",
       "      <th>243</th>\n",
       "      <td>ENSG00000011143</td>\n",
       "      <td>MKS1</td>\n",
       "      <td>20.237539</td>\n",
       "      <td>7.184085</td>\n",
       "      <td>0.933233</td>\n",
       "      <td>7.698061</td>\n",
       "      <td>1.380000e-14</td>\n",
       "      <td>1.112000e-13</td>\n",
       "      <td>UR</td>\n",
       "      <td>Cancer</td>\n",
       "    </tr>\n",
       "    <tr>\n",
       "      <th>188</th>\n",
       "      <td>ENSG00000233746</td>\n",
       "      <td>LINC00656</td>\n",
       "      <td>11.255121</td>\n",
       "      <td>-5.889553</td>\n",
       "      <td>0.965961</td>\n",
       "      <td>-6.097093</td>\n",
       "      <td>1.080144e-09</td>\n",
       "      <td>5.781760e-09</td>\n",
       "      <td>DR</td>\n",
       "      <td>Immune</td>\n",
       "    </tr>\n",
       "    <tr>\n",
       "      <th>394</th>\n",
       "      <td>ENSG00000075089</td>\n",
       "      <td>ACTR6</td>\n",
       "      <td>5.120283</td>\n",
       "      <td>4.832235</td>\n",
       "      <td>0.988273</td>\n",
       "      <td>4.889575</td>\n",
       "      <td>1.010541e-06</td>\n",
       "      <td>4.001483e-06</td>\n",
       "      <td>UR</td>\n",
       "      <td>Cancer</td>\n",
       "    </tr>\n",
       "    <tr>\n",
       "      <th>295</th>\n",
       "      <td>ENSG00000178343</td>\n",
       "      <td>SHISA3</td>\n",
       "      <td>59.985477</td>\n",
       "      <td>8.394400</td>\n",
       "      <td>0.904831</td>\n",
       "      <td>9.277311</td>\n",
       "      <td>0.000000e+00</td>\n",
       "      <td>0.000000e+00</td>\n",
       "      <td>UR</td>\n",
       "      <td>Cancer</td>\n",
       "    </tr>\n",
       "    <tr>\n",
       "      <th>203</th>\n",
       "      <td>ENSG00000268941</td>\n",
       "      <td>LINC01711</td>\n",
       "      <td>10.379298</td>\n",
       "      <td>-5.868086</td>\n",
       "      <td>1.074047</td>\n",
       "      <td>-5.463530</td>\n",
       "      <td>4.667576e-08</td>\n",
       "      <td>2.139446e-07</td>\n",
       "      <td>DR</td>\n",
       "      <td>Immune</td>\n",
       "    </tr>\n",
       "  </tbody>\n",
       "</table>\n",
       "</div>"
      ],
      "text/plain": [
       "               Genes hgnc_symbol   baseMean  log2FoldChange     lfcSE  \\\n",
       "347  ENSG00000280303       ERICD  73.842639        9.181362  0.861248   \n",
       "243  ENSG00000011143        MKS1  20.237539        7.184085  0.933233   \n",
       "188  ENSG00000233746   LINC00656  11.255121       -5.889553  0.965961   \n",
       "394  ENSG00000075089       ACTR6   5.120283        4.832235  0.988273   \n",
       "295  ENSG00000178343      SHISA3  59.985477        8.394400  0.904831   \n",
       "203  ENSG00000268941   LINC01711  10.379298       -5.868086  1.074047   \n",
       "\n",
       "          stat        pvalue          padj DR_UR    Type  \n",
       "347  10.660533  0.000000e+00  0.000000e+00    UR  Cancer  \n",
       "243   7.698061  1.380000e-14  1.112000e-13    UR  Cancer  \n",
       "188  -6.097093  1.080144e-09  5.781760e-09    DR  Immune  \n",
       "394   4.889575  1.010541e-06  4.001483e-06    UR  Cancer  \n",
       "295   9.277311  0.000000e+00  0.000000e+00    UR  Cancer  \n",
       "203  -5.463530  4.667576e-08  2.139446e-07    DR  Immune  "
      ]
     },
     "execution_count": 4,
     "metadata": {},
     "output_type": "execute_result"
    }
   ],
   "source": [
    "gene_data.sample(frac=1).head(6)"
   ]
  },
  {
   "cell_type": "markdown",
   "id": "a853dca9",
   "metadata": {},
   "source": [
    "### Preprocessing of data"
   ]
  },
  {
   "cell_type": "markdown",
   "id": "d0541064",
   "metadata": {},
   "source": [
    "##### Checking for missing data"
   ]
  },
  {
   "cell_type": "code",
   "execution_count": 5,
   "id": "50c43efb",
   "metadata": {},
   "outputs": [
    {
     "data": {
      "text/plain": [
       "Genes               0\n",
       "hgnc_symbol       124\n",
       "baseMean            0\n",
       "log2FoldChange      0\n",
       "lfcSE               0\n",
       "stat                0\n",
       "pvalue              0\n",
       "padj                0\n",
       "DR_UR               0\n",
       "Type                0\n",
       "dtype: int64"
      ]
     },
     "execution_count": 5,
     "metadata": {},
     "output_type": "execute_result"
    }
   ],
   "source": [
    "gene_data.isna().sum()"
   ]
  },
  {
   "cell_type": "code",
   "execution_count": 9,
   "id": "bb0376e8",
   "metadata": {},
   "outputs": [],
   "source": [
    "gene_data_with_NA = gene_data[(gene_data.hgnc_symbol).isna()]"
   ]
  },
  {
   "cell_type": "code",
   "execution_count": 11,
   "id": "c3fb874a",
   "metadata": {},
   "outputs": [
    {
     "data": {
      "text/html": [
       "<div>\n",
       "<style scoped>\n",
       "    .dataframe tbody tr th:only-of-type {\n",
       "        vertical-align: middle;\n",
       "    }\n",
       "\n",
       "    .dataframe tbody tr th {\n",
       "        vertical-align: top;\n",
       "    }\n",
       "\n",
       "    .dataframe thead th {\n",
       "        text-align: right;\n",
       "    }\n",
       "</style>\n",
       "<table border=\"1\" class=\"dataframe\">\n",
       "  <thead>\n",
       "    <tr style=\"text-align: right;\">\n",
       "      <th></th>\n",
       "      <th>Genes</th>\n",
       "      <th>hgnc_symbol</th>\n",
       "      <th>baseMean</th>\n",
       "      <th>log2FoldChange</th>\n",
       "      <th>lfcSE</th>\n",
       "      <th>stat</th>\n",
       "      <th>pvalue</th>\n",
       "      <th>padj</th>\n",
       "      <th>DR_UR</th>\n",
       "      <th>Type</th>\n",
       "    </tr>\n",
       "  </thead>\n",
       "  <tbody>\n",
       "    <tr>\n",
       "      <th>70</th>\n",
       "      <td>ENSG00000279780</td>\n",
       "      <td>NaN</td>\n",
       "      <td>3.175288</td>\n",
       "      <td>-4.585986</td>\n",
       "      <td>1.157537</td>\n",
       "      <td>-3.961848</td>\n",
       "      <td>7.437183e-05</td>\n",
       "      <td>2.304736e-04</td>\n",
       "      <td>DR</td>\n",
       "      <td>Immune</td>\n",
       "    </tr>\n",
       "    <tr>\n",
       "      <th>317</th>\n",
       "      <td>ENSG00000230852</td>\n",
       "      <td>NaN</td>\n",
       "      <td>65.901123</td>\n",
       "      <td>9.032002</td>\n",
       "      <td>0.859868</td>\n",
       "      <td>10.503938</td>\n",
       "      <td>0.000000e+00</td>\n",
       "      <td>0.000000e+00</td>\n",
       "      <td>UR</td>\n",
       "      <td>Cancer</td>\n",
       "    </tr>\n",
       "    <tr>\n",
       "      <th>382</th>\n",
       "      <td>ENSG00000257341</td>\n",
       "      <td>NaN</td>\n",
       "      <td>2.396192</td>\n",
       "      <td>-3.589426</td>\n",
       "      <td>1.142654</td>\n",
       "      <td>-3.141306</td>\n",
       "      <td>1.681963e-03</td>\n",
       "      <td>4.222539e-03</td>\n",
       "      <td>DR</td>\n",
       "      <td>Cancer</td>\n",
       "    </tr>\n",
       "    <tr>\n",
       "      <th>336</th>\n",
       "      <td>ENSG00000250073</td>\n",
       "      <td>NaN</td>\n",
       "      <td>16.874108</td>\n",
       "      <td>6.984561</td>\n",
       "      <td>0.915175</td>\n",
       "      <td>7.631938</td>\n",
       "      <td>2.310000e-14</td>\n",
       "      <td>1.839000e-13</td>\n",
       "      <td>UR</td>\n",
       "      <td>Cancer</td>\n",
       "    </tr>\n",
       "    <tr>\n",
       "      <th>499</th>\n",
       "      <td>ENSG00000259076</td>\n",
       "      <td>NaN</td>\n",
       "      <td>5.453164</td>\n",
       "      <td>5.363207</td>\n",
       "      <td>1.000003</td>\n",
       "      <td>5.363193</td>\n",
       "      <td>8.176337e-08</td>\n",
       "      <td>3.653483e-07</td>\n",
       "      <td>UR</td>\n",
       "      <td>Cancer</td>\n",
       "    </tr>\n",
       "  </tbody>\n",
       "</table>\n",
       "</div>"
      ],
      "text/plain": [
       "               Genes hgnc_symbol   baseMean  log2FoldChange     lfcSE  \\\n",
       "70   ENSG00000279780         NaN   3.175288       -4.585986  1.157537   \n",
       "317  ENSG00000230852         NaN  65.901123        9.032002  0.859868   \n",
       "382  ENSG00000257341         NaN   2.396192       -3.589426  1.142654   \n",
       "336  ENSG00000250073         NaN  16.874108        6.984561  0.915175   \n",
       "499  ENSG00000259076         NaN   5.453164        5.363207  1.000003   \n",
       "\n",
       "          stat        pvalue          padj DR_UR    Type  \n",
       "70   -3.961848  7.437183e-05  2.304736e-04    DR  Immune  \n",
       "317  10.503938  0.000000e+00  0.000000e+00    UR  Cancer  \n",
       "382  -3.141306  1.681963e-03  4.222539e-03    DR  Cancer  \n",
       "336   7.631938  2.310000e-14  1.839000e-13    UR  Cancer  \n",
       "499   5.363193  8.176337e-08  3.653483e-07    UR  Cancer  "
      ]
     },
     "execution_count": 11,
     "metadata": {},
     "output_type": "execute_result"
    }
   ],
   "source": [
    "gene_data_with_NA.sample(frac=1).head()"
   ]
  },
  {
   "cell_type": "code",
   "execution_count": null,
   "id": "09d1f4fa",
   "metadata": {},
   "outputs": [],
   "source": []
  }
 ],
 "metadata": {
  "kernelspec": {
   "display_name": "Python 3 (ipykernel)",
   "language": "python",
   "name": "python3"
  },
  "language_info": {
   "codemirror_mode": {
    "name": "ipython",
    "version": 3
   },
   "file_extension": ".py",
   "mimetype": "text/x-python",
   "name": "python",
   "nbconvert_exporter": "python",
   "pygments_lexer": "ipython3",
   "version": "3.8.12"
  }
 },
 "nbformat": 4,
 "nbformat_minor": 5
}
