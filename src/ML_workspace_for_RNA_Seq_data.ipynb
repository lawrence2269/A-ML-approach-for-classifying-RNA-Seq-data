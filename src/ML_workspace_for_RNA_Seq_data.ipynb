{
 "cells": [
  {
   "cell_type": "markdown",
   "metadata": {},
   "source": [
    "### <center>A machine learning approach to classify cancer genes and  cancer-associated immune genes in a Next-generation RNA Seq</center>\n",
    "\n",
    "#### Authors\n",
    "* Lawrence Thanakumar Rajappa (**IDA, Linköping University, Linköping**)\n",
    "* krzysztof Bartoszek (**STIMA,Linköping University, Linköping**)\n",
    "* Jenny Persson (**Molecular Biology, Umeå University, Umeå**)\n",
    "\n",
    "#### Abstract\n",
    "<p align=\"justify\">\n",
    "In this study, we aim to predict the invasiveness of cancer subtypes by using a supervised and unsupervised machine learning approach. We will base on the next-generation RNA sequence data of cancer cells and cancer-associated immune cells to classify the cancerous cells from immune cells in the given samples taken from cancer patients and compare the classification/prediction performance of machine learning models such as SVM, decision tree, random forest, hierarchical clustering, etc. and choose the model that performs better. \n",
    "\n",
    "The evolution of genomic sequencing technology has led researchers to perform various experiments to find a cure for various genetic diseases such as cancer. The advent of Artificial Intelligence, especially in the healthcare sector has paved the way to numerous solutions such as drug discovery, cost-effective treatment for patients, etc. which would be beneficial for pharmaceutical organizations, hospitals, and researchers to perform their experiments at a fast pace. Further, Next-generation RNA sequencing data has helped to find the relationship between gene expression profiles and different developmental stages of a cell or a disease in an efficient and cost-effective approach with higher accuracy. There are various methodologies mentioned in various literature related to a cure for cancer, still, the fatality rate of cancer cannot be reduced. The machine learning approach helps us to understand the complexities and processes of cancer samples that lead to the development of effective cancer treatment/drugs in a reliable, fast, and efficient way.</p>\n"
   ]
  },
  {
   "cell_type": "markdown",
   "metadata": {},
   "source": [
    "### Loading required libraries"
   ]
  },
  {
   "cell_type": "code",
   "execution_count": 36,
   "metadata": {},
   "outputs": [],
   "source": [
    "%matplotlib inline\n",
    "# Data loading and manipulation libraries\n",
    "import pandas as pd\n",
    "import numpy as np\n",
    "\n",
    "# Visualization libraries\n",
    "import seaborn as sns\n",
    "import matplotlib\n",
    "import matplotlib.pyplot as plt\n",
    "from dtreeviz.trees import dtreeviz\n",
    "\n",
    "# ML algorithms libraries\n",
    "from sklearn.model_selection import train_test_split\n",
    "from sklearn.tree import DecisionTreeClassifier # Decision tree\n",
    "from sklearn.preprocessing import StandardScaler\n",
    "from sklearn.feature_selection import SelectKBest\n",
    "from sklearn.preprocessing import LabelEncoder\n",
    "from sklearn.feature_selection import f_classif\n",
    "from sklearn import metrics\n",
    "from numpy import set_printoptions\n",
    "from sklearn.ensemble import RandomForestClassifier # Random Forest\n",
    "from sklearn.svm import SVC # SVM\n",
    "from sklearn.decomposition import PCA #PCA\n",
    "from sklearn.model_selection import GridSearchCV \n",
    "from bioinfokit.visuz import cluster\n",
    "from sklearn.metrics import precision_recall_fscore_support"
   ]
  },
  {
   "cell_type": "markdown",
   "metadata": {},
   "source": [
    "### Loading the data"
   ]
  },
  {
   "cell_type": "code",
   "execution_count": 3,
   "metadata": {},
   "outputs": [],
   "source": [
    "gene_data = pd.read_csv(\"../Data/12_Sample_Gene_List_Updated_with_labels.csv\", index_col=False)"
   ]
  },
  {
   "cell_type": "code",
   "execution_count": 4,
   "metadata": {},
   "outputs": [],
   "source": [
    "gene_data = gene_data.drop([\"Unnamed: 0\"], axis=1)"
   ]
  },
  {
   "cell_type": "code",
   "execution_count": 5,
   "metadata": {},
   "outputs": [
    {
     "data": {
      "text/html": [
       "<div>\n",
       "<style scoped>\n",
       "    .dataframe tbody tr th:only-of-type {\n",
       "        vertical-align: middle;\n",
       "    }\n",
       "\n",
       "    .dataframe tbody tr th {\n",
       "        vertical-align: top;\n",
       "    }\n",
       "\n",
       "    .dataframe thead th {\n",
       "        text-align: right;\n",
       "    }\n",
       "</style>\n",
       "<table border=\"1\" class=\"dataframe\">\n",
       "  <thead>\n",
       "    <tr style=\"text-align: right;\">\n",
       "      <th></th>\n",
       "      <th>Genes</th>\n",
       "      <th>hgnc_symbol</th>\n",
       "      <th>baseMean</th>\n",
       "      <th>log2FoldChange</th>\n",
       "      <th>lfcSE</th>\n",
       "      <th>stat</th>\n",
       "      <th>pvalue</th>\n",
       "      <th>padj</th>\n",
       "      <th>DR_UR</th>\n",
       "      <th>Type</th>\n",
       "    </tr>\n",
       "  </thead>\n",
       "  <tbody>\n",
       "    <tr>\n",
       "      <th>474</th>\n",
       "      <td>ENSG00000226358</td>\n",
       "      <td>KRT8P38</td>\n",
       "      <td>315.868106</td>\n",
       "      <td>10.807661</td>\n",
       "      <td>0.868197</td>\n",
       "      <td>12.448402</td>\n",
       "      <td>1.426723e-35</td>\n",
       "      <td>4.057689e-34</td>\n",
       "      <td>UR</td>\n",
       "      <td>Cancer</td>\n",
       "    </tr>\n",
       "    <tr>\n",
       "      <th>397</th>\n",
       "      <td>ENSG00000104833</td>\n",
       "      <td>TUBB4A</td>\n",
       "      <td>261.799910</td>\n",
       "      <td>10.064602</td>\n",
       "      <td>0.854897</td>\n",
       "      <td>11.772882</td>\n",
       "      <td>5.385261e-32</td>\n",
       "      <td>1.274872e-30</td>\n",
       "      <td>UR</td>\n",
       "      <td>Cancer</td>\n",
       "    </tr>\n",
       "    <tr>\n",
       "      <th>6</th>\n",
       "      <td>ENSG00000104537</td>\n",
       "      <td>ANXA13</td>\n",
       "      <td>2.579087</td>\n",
       "      <td>-4.267433</td>\n",
       "      <td>1.128601</td>\n",
       "      <td>-3.781172</td>\n",
       "      <td>1.560920e-04</td>\n",
       "      <td>4.642305e-04</td>\n",
       "      <td>DR</td>\n",
       "      <td>Immune</td>\n",
       "    </tr>\n",
       "    <tr>\n",
       "      <th>337</th>\n",
       "      <td>ENSG00000251511</td>\n",
       "      <td>NaN</td>\n",
       "      <td>4.096568</td>\n",
       "      <td>4.911993</td>\n",
       "      <td>1.011374</td>\n",
       "      <td>4.856750</td>\n",
       "      <td>1.193282e-06</td>\n",
       "      <td>4.691360e-06</td>\n",
       "      <td>UR</td>\n",
       "      <td>Cancer</td>\n",
       "    </tr>\n",
       "    <tr>\n",
       "      <th>372</th>\n",
       "      <td>ENSG00000254275</td>\n",
       "      <td>LINC00824</td>\n",
       "      <td>1.798052</td>\n",
       "      <td>-3.725354</td>\n",
       "      <td>1.358412</td>\n",
       "      <td>-2.742433</td>\n",
       "      <td>6.098584e-03</td>\n",
       "      <td>1.370688e-02</td>\n",
       "      <td>DR</td>\n",
       "      <td>Cancer</td>\n",
       "    </tr>\n",
       "    <tr>\n",
       "      <th>234</th>\n",
       "      <td>ENSG00000158792</td>\n",
       "      <td>SPATA2L</td>\n",
       "      <td>2.718585</td>\n",
       "      <td>3.526107</td>\n",
       "      <td>1.241071</td>\n",
       "      <td>2.841180</td>\n",
       "      <td>4.494691e-03</td>\n",
       "      <td>1.041951e-02</td>\n",
       "      <td>UR</td>\n",
       "      <td>Immune</td>\n",
       "    </tr>\n",
       "  </tbody>\n",
       "</table>\n",
       "</div>"
      ],
      "text/plain": [
       "               Genes hgnc_symbol    baseMean  log2FoldChange     lfcSE  \\\n",
       "474  ENSG00000226358     KRT8P38  315.868106       10.807661  0.868197   \n",
       "397  ENSG00000104833      TUBB4A  261.799910       10.064602  0.854897   \n",
       "6    ENSG00000104537      ANXA13    2.579087       -4.267433  1.128601   \n",
       "337  ENSG00000251511         NaN    4.096568        4.911993  1.011374   \n",
       "372  ENSG00000254275   LINC00824    1.798052       -3.725354  1.358412   \n",
       "234  ENSG00000158792     SPATA2L    2.718585        3.526107  1.241071   \n",
       "\n",
       "          stat        pvalue          padj DR_UR    Type  \n",
       "474  12.448402  1.426723e-35  4.057689e-34    UR  Cancer  \n",
       "397  11.772882  5.385261e-32  1.274872e-30    UR  Cancer  \n",
       "6    -3.781172  1.560920e-04  4.642305e-04    DR  Immune  \n",
       "337   4.856750  1.193282e-06  4.691360e-06    UR  Cancer  \n",
       "372  -2.742433  6.098584e-03  1.370688e-02    DR  Cancer  \n",
       "234   2.841180  4.494691e-03  1.041951e-02    UR  Immune  "
      ]
     },
     "execution_count": 5,
     "metadata": {},
     "output_type": "execute_result"
    }
   ],
   "source": [
    "gene_data.sample(frac=1).head(6)"
   ]
  },
  {
   "cell_type": "markdown",
   "metadata": {},
   "source": [
    "### Preprocessing of data"
   ]
  },
  {
   "cell_type": "markdown",
   "metadata": {},
   "source": [
    "##### Checking for missing data"
   ]
  },
  {
   "cell_type": "code",
   "execution_count": 6,
   "metadata": {},
   "outputs": [
    {
     "data": {
      "text/plain": [
       "Genes               0\n",
       "hgnc_symbol       124\n",
       "baseMean            0\n",
       "log2FoldChange      0\n",
       "lfcSE               0\n",
       "stat                0\n",
       "pvalue              0\n",
       "padj                0\n",
       "DR_UR               0\n",
       "Type                0\n",
       "dtype: int64"
      ]
     },
     "execution_count": 6,
     "metadata": {},
     "output_type": "execute_result"
    }
   ],
   "source": [
    "gene_data.isna().sum()"
   ]
  },
  {
   "cell_type": "markdown",
   "metadata": {},
   "source": [
    "**There is no reason to fill the missing gene symbols, as some genes will be a novel genes and do not have gene names. Moreover, this dimension won't be an important feature related to our target variable <mark>\"Type\"</mark>.**"
   ]
  },
  {
   "cell_type": "markdown",
   "metadata": {},
   "source": [
    "#### Checking for linear separability (before outliers removal)"
   ]
  },
  {
   "cell_type": "code",
   "execution_count": 7,
   "metadata": {},
   "outputs": [
    {
     "data": {
      "image/png": "[encoded data removed]",
      "text/plain": [
       "<Figure size 792.125x720 with 1 Axes>"
      ]
     },
     "metadata": {},
     "output_type": "display_data"
    }
   ],
   "source": [
    "sns.set_style(\"white\")\n",
    "g = sns.FacetGrid(gene_data, hue=\"Type\", height=10) \\\n",
    "   .map(plt.scatter, \"stat\", \"log2FoldChange\") \\\n",
    "   .add_legend() \n",
    "plt.show()"
   ]
  },
  {
   "cell_type": "markdown",
   "metadata": {},
   "source": [
    "From the above graph, it could be seen that there is no linear separability is available. Hence we need to apply non-linear classification algorithms such as SVM Kernel, k-nearest-neighbors (kNN), Random Forest, and etc."
   ]
  },
  {
   "cell_type": "markdown",
   "metadata": {},
   "source": [
    "#### Checking for linear separability (after outliers removal)"
   ]
  },
  {
   "cell_type": "markdown",
   "metadata": {},
   "source": [
    "##### List of outlier genes"
   ]
  },
  {
   "cell_type": "code",
   "execution_count": 8,
   "metadata": {},
   "outputs": [],
   "source": [
    "outlier_genes = [\"ENSG00000107159\",\"ENSG00000119138\",\"ENSG00000125676\",\"ENSG00000254717\",\"ENSG00000123096\",\n",
    "                 \"ENSG00000110169\",\"ENSG00000255386\",\"ENSG00000134516\",\"ENSG00000283051\",\"ENSG00000204382\",\n",
    "                 \"ENSG00000261997\",\"ENSG00000269516\",\"ENSG00000173391\",\"ENSG00000172243\",\"ENSG00000277120\",\n",
    "                 \"ENSG00000169093\"]"
   ]
  },
  {
   "cell_type": "code",
   "execution_count": 9,
   "metadata": {},
   "outputs": [
    {
     "data": {
      "text/html": [
       "<div>\n",
       "<style scoped>\n",
       "    .dataframe tbody tr th:only-of-type {\n",
       "        vertical-align: middle;\n",
       "    }\n",
       "\n",
       "    .dataframe tbody tr th {\n",
       "        vertical-align: top;\n",
       "    }\n",
       "\n",
       "    .dataframe thead th {\n",
       "        text-align: right;\n",
       "    }\n",
       "</style>\n",
       "<table border=\"1\" class=\"dataframe\">\n",
       "  <thead>\n",
       "    <tr style=\"text-align: right;\">\n",
       "      <th></th>\n",
       "      <th>Genes</th>\n",
       "      <th>hgnc_symbol</th>\n",
       "      <th>baseMean</th>\n",
       "      <th>log2FoldChange</th>\n",
       "      <th>lfcSE</th>\n",
       "      <th>stat</th>\n",
       "      <th>pvalue</th>\n",
       "      <th>padj</th>\n",
       "      <th>DR_UR</th>\n",
       "      <th>Type</th>\n",
       "    </tr>\n",
       "  </thead>\n",
       "  <tbody>\n",
       "    <tr>\n",
       "      <th>200</th>\n",
       "      <td>ENSG00000261997</td>\n",
       "      <td>NaN</td>\n",
       "      <td>310.248612</td>\n",
       "      <td>-10.760381</td>\n",
       "      <td>0.872188</td>\n",
       "      <td>-12.337226</td>\n",
       "      <td>5.708900e-35</td>\n",
       "      <td>1.559237e-33</td>\n",
       "      <td>DR</td>\n",
       "      <td>Immune</td>\n",
       "    </tr>\n",
       "    <tr>\n",
       "      <th>173</th>\n",
       "      <td>ENSG00000204382</td>\n",
       "      <td>XAGE1B</td>\n",
       "      <td>422.418944</td>\n",
       "      <td>-10.395750</td>\n",
       "      <td>0.816378</td>\n",
       "      <td>-12.733997</td>\n",
       "      <td>3.827313e-37</td>\n",
       "      <td>1.149864e-35</td>\n",
       "      <td>DR</td>\n",
       "      <td>Immune</td>\n",
       "    </tr>\n",
       "    <tr>\n",
       "      <th>205</th>\n",
       "      <td>ENSG00000269516</td>\n",
       "      <td>CYP4F23P</td>\n",
       "      <td>321.564905</td>\n",
       "      <td>-10.053599</td>\n",
       "      <td>0.993132</td>\n",
       "      <td>-10.123127</td>\n",
       "      <td>4.362518e-24</td>\n",
       "      <td>6.687036e-23</td>\n",
       "      <td>DR</td>\n",
       "      <td>Immune</td>\n",
       "    </tr>\n",
       "    <tr>\n",
       "      <th>30</th>\n",
       "      <td>ENSG00000173391</td>\n",
       "      <td>OLR1</td>\n",
       "      <td>94.120246</td>\n",
       "      <td>-9.055087</td>\n",
       "      <td>1.110933</td>\n",
       "      <td>-8.150882</td>\n",
       "      <td>3.612789e-16</td>\n",
       "      <td>3.272902e-15</td>\n",
       "      <td>DR</td>\n",
       "      <td>Immune</td>\n",
       "    </tr>\n",
       "    <tr>\n",
       "      <th>147</th>\n",
       "      <td>ENSG00000134516</td>\n",
       "      <td>DOCK2</td>\n",
       "      <td>207.880463</td>\n",
       "      <td>-8.835944</td>\n",
       "      <td>0.690099</td>\n",
       "      <td>-12.803886</td>\n",
       "      <td>1.559476e-37</td>\n",
       "      <td>4.780851e-36</td>\n",
       "      <td>DR</td>\n",
       "      <td>Immune</td>\n",
       "    </tr>\n",
       "    <tr>\n",
       "      <th>213</th>\n",
       "      <td>ENSG00000283051</td>\n",
       "      <td>LINC01668</td>\n",
       "      <td>123.721555</td>\n",
       "      <td>-8.559946</td>\n",
       "      <td>0.754018</td>\n",
       "      <td>-11.352446</td>\n",
       "      <td>7.211638e-30</td>\n",
       "      <td>1.545591e-28</td>\n",
       "      <td>DR</td>\n",
       "      <td>Immune</td>\n",
       "    </tr>\n",
       "    <tr>\n",
       "      <th>162</th>\n",
       "      <td>ENSG00000172243</td>\n",
       "      <td>CLEC7A</td>\n",
       "      <td>47.456482</td>\n",
       "      <td>-8.529741</td>\n",
       "      <td>1.192238</td>\n",
       "      <td>-7.154394</td>\n",
       "      <td>8.404305e-13</td>\n",
       "      <td>5.924605e-12</td>\n",
       "      <td>DR</td>\n",
       "      <td>Immune</td>\n",
       "    </tr>\n",
       "    <tr>\n",
       "      <th>114</th>\n",
       "      <td>ENSG00000169093</td>\n",
       "      <td>ASMTL</td>\n",
       "      <td>13.735410</td>\n",
       "      <td>-6.713500</td>\n",
       "      <td>0.910356</td>\n",
       "      <td>-7.374589</td>\n",
       "      <td>1.648526e-13</td>\n",
       "      <td>1.221535e-12</td>\n",
       "      <td>DR</td>\n",
       "      <td>Immune</td>\n",
       "    </tr>\n",
       "    <tr>\n",
       "      <th>115</th>\n",
       "      <td>ENSG00000169093</td>\n",
       "      <td>ASMTL</td>\n",
       "      <td>25.366024</td>\n",
       "      <td>-3.178701</td>\n",
       "      <td>0.422802</td>\n",
       "      <td>-7.518179</td>\n",
       "      <td>5.554452e-14</td>\n",
       "      <td>4.272894e-13</td>\n",
       "      <td>DR</td>\n",
       "      <td>Immune</td>\n",
       "    </tr>\n",
       "    <tr>\n",
       "      <th>511</th>\n",
       "      <td>ENSG00000277120</td>\n",
       "      <td>MIR6089</td>\n",
       "      <td>190.847973</td>\n",
       "      <td>-1.356491</td>\n",
       "      <td>0.200374</td>\n",
       "      <td>-6.769813</td>\n",
       "      <td>1.289491e-11</td>\n",
       "      <td>8.185767e-11</td>\n",
       "      <td>DR</td>\n",
       "      <td>Cancer</td>\n",
       "    </tr>\n",
       "    <tr>\n",
       "      <th>88</th>\n",
       "      <td>ENSG00000255386</td>\n",
       "      <td>OR5BR1P</td>\n",
       "      <td>3.636565</td>\n",
       "      <td>4.829953</td>\n",
       "      <td>1.512287</td>\n",
       "      <td>3.193808</td>\n",
       "      <td>1.404097e-03</td>\n",
       "      <td>3.573279e-03</td>\n",
       "      <td>UR</td>\n",
       "      <td>Immune</td>\n",
       "    </tr>\n",
       "    <tr>\n",
       "      <th>402</th>\n",
       "      <td>ENSG00000110169</td>\n",
       "      <td>HPX</td>\n",
       "      <td>21.816269</td>\n",
       "      <td>6.103558</td>\n",
       "      <td>0.804145</td>\n",
       "      <td>7.590120</td>\n",
       "      <td>3.196086e-14</td>\n",
       "      <td>2.512471e-13</td>\n",
       "      <td>UR</td>\n",
       "      <td>Cancer</td>\n",
       "    </tr>\n",
       "    <tr>\n",
       "      <th>411</th>\n",
       "      <td>ENSG00000123096</td>\n",
       "      <td>SSPN</td>\n",
       "      <td>34.753287</td>\n",
       "      <td>6.807034</td>\n",
       "      <td>0.801213</td>\n",
       "      <td>8.495906</td>\n",
       "      <td>1.963948e-17</td>\n",
       "      <td>1.944415e-16</td>\n",
       "      <td>UR</td>\n",
       "      <td>Cancer</td>\n",
       "    </tr>\n",
       "    <tr>\n",
       "      <th>264</th>\n",
       "      <td>ENSG00000125676</td>\n",
       "      <td>THOC2</td>\n",
       "      <td>22.517508</td>\n",
       "      <td>7.447821</td>\n",
       "      <td>1.310075</td>\n",
       "      <td>5.685032</td>\n",
       "      <td>1.307879e-08</td>\n",
       "      <td>6.341370e-08</td>\n",
       "      <td>UR</td>\n",
       "      <td>Cancer</td>\n",
       "    </tr>\n",
       "    <tr>\n",
       "      <th>495</th>\n",
       "      <td>ENSG00000254717</td>\n",
       "      <td>GLYATL1P2</td>\n",
       "      <td>62.692630</td>\n",
       "      <td>7.487684</td>\n",
       "      <td>0.817923</td>\n",
       "      <td>9.154509</td>\n",
       "      <td>5.460564e-20</td>\n",
       "      <td>6.385730e-19</td>\n",
       "      <td>UR</td>\n",
       "      <td>Cancer</td>\n",
       "    </tr>\n",
       "    <tr>\n",
       "      <th>262</th>\n",
       "      <td>ENSG00000119138</td>\n",
       "      <td>KLF9</td>\n",
       "      <td>57.091687</td>\n",
       "      <td>8.338967</td>\n",
       "      <td>1.217651</td>\n",
       "      <td>6.848404</td>\n",
       "      <td>7.467821e-12</td>\n",
       "      <td>4.814603e-11</td>\n",
       "      <td>UR</td>\n",
       "      <td>Cancer</td>\n",
       "    </tr>\n",
       "    <tr>\n",
       "      <th>400</th>\n",
       "      <td>ENSG00000107159</td>\n",
       "      <td>CA9</td>\n",
       "      <td>363.987833</td>\n",
       "      <td>10.240261</td>\n",
       "      <td>0.762069</td>\n",
       "      <td>13.437453</td>\n",
       "      <td>3.647778e-41</td>\n",
       "      <td>1.327663e-39</td>\n",
       "      <td>UR</td>\n",
       "      <td>Cancer</td>\n",
       "    </tr>\n",
       "  </tbody>\n",
       "</table>\n",
       "</div>"
      ],
      "text/plain": [
       "               Genes hgnc_symbol    baseMean  log2FoldChange     lfcSE  \\\n",
       "200  ENSG00000261997         NaN  310.248612      -10.760381  0.872188   \n",
       "173  ENSG00000204382      XAGE1B  422.418944      -10.395750  0.816378   \n",
       "205  ENSG00000269516    CYP4F23P  321.564905      -10.053599  0.993132   \n",
       "30   ENSG00000173391        OLR1   94.120246       -9.055087  1.110933   \n",
       "147  ENSG00000134516       DOCK2  207.880463       -8.835944  0.690099   \n",
       "213  ENSG00000283051   LINC01668  123.721555       -8.559946  0.754018   \n",
       "162  ENSG00000172243      CLEC7A   47.456482       -8.529741  1.192238   \n",
       "114  ENSG00000169093       ASMTL   13.735410       -6.713500  0.910356   \n",
       "115  ENSG00000169093       ASMTL   25.366024       -3.178701  0.422802   \n",
       "511  ENSG00000277120     MIR6089  190.847973       -1.356491  0.200374   \n",
       "88   ENSG00000255386     OR5BR1P    3.636565        4.829953  1.512287   \n",
       "402  ENSG00000110169         HPX   21.816269        6.103558  0.804145   \n",
       "411  ENSG00000123096        SSPN   34.753287        6.807034  0.801213   \n",
       "264  ENSG00000125676       THOC2   22.517508        7.447821  1.310075   \n",
       "495  ENSG00000254717   GLYATL1P2   62.692630        7.487684  0.817923   \n",
       "262  ENSG00000119138        KLF9   57.091687        8.338967  1.217651   \n",
       "400  ENSG00000107159         CA9  363.987833       10.240261  0.762069   \n",
       "\n",
       "          stat        pvalue          padj DR_UR    Type  \n",
       "200 -12.337226  5.708900e-35  1.559237e-33    DR  Immune  \n",
       "173 -12.733997  3.827313e-37  1.149864e-35    DR  Immune  \n",
       "205 -10.123127  4.362518e-24  6.687036e-23    DR  Immune  \n",
       "30   -8.150882  3.612789e-16  3.272902e-15    DR  Immune  \n",
       "147 -12.803886  1.559476e-37  4.780851e-36    DR  Immune  \n",
       "213 -11.352446  7.211638e-30  1.545591e-28    DR  Immune  \n",
       "162  -7.154394  8.404305e-13  5.924605e-12    DR  Immune  \n",
       "114  -7.374589  1.648526e-13  1.221535e-12    DR  Immune  \n",
       "115  -7.518179  5.554452e-14  4.272894e-13    DR  Immune  \n",
       "511  -6.769813  1.289491e-11  8.185767e-11    DR  Cancer  \n",
       "88    3.193808  1.404097e-03  3.573279e-03    UR  Immune  \n",
       "402   7.590120  3.196086e-14  2.512471e-13    UR  Cancer  \n",
       "411   8.495906  1.963948e-17  1.944415e-16    UR  Cancer  \n",
       "264   5.685032  1.307879e-08  6.341370e-08    UR  Cancer  \n",
       "495   9.154509  5.460564e-20  6.385730e-19    UR  Cancer  \n",
       "262   6.848404  7.467821e-12  4.814603e-11    UR  Cancer  \n",
       "400  13.437453  3.647778e-41  1.327663e-39    UR  Cancer  "
      ]
     },
     "execution_count": 9,
     "metadata": {},
     "output_type": "execute_result"
    }
   ],
   "source": [
    "gene_data_outliers = gene_data[gene_data.Genes.isin(outlier_genes)]\n",
    "gene_data_outliers.sort_values('log2FoldChange')"
   ]
  },
  {
   "cell_type": "code",
   "execution_count": 10,
   "metadata": {},
   "outputs": [],
   "source": [
    "gene_data_wo_outliers = gene_data[~gene_data.Genes.isin(outlier_genes)]"
   ]
  },
  {
   "cell_type": "markdown",
   "metadata": {},
   "source": [
    "**I have removed the above 16 outliers genes from the original data as I have more data and removing these gene data won't affect the downstream analysis.**"
   ]
  },
  {
   "cell_type": "code",
   "execution_count": 11,
   "metadata": {},
   "outputs": [
    {
     "data": {
      "text/html": [
       "<div>\n",
       "<style scoped>\n",
       "    .dataframe tbody tr th:only-of-type {\n",
       "        vertical-align: middle;\n",
       "    }\n",
       "\n",
       "    .dataframe tbody tr th {\n",
       "        vertical-align: top;\n",
       "    }\n",
       "\n",
       "    .dataframe thead th {\n",
       "        text-align: right;\n",
       "    }\n",
       "</style>\n",
       "<table border=\"1\" class=\"dataframe\">\n",
       "  <thead>\n",
       "    <tr style=\"text-align: right;\">\n",
       "      <th></th>\n",
       "      <th>Genes</th>\n",
       "      <th>hgnc_symbol</th>\n",
       "      <th>baseMean</th>\n",
       "      <th>log2FoldChange</th>\n",
       "      <th>lfcSE</th>\n",
       "      <th>stat</th>\n",
       "      <th>pvalue</th>\n",
       "      <th>padj</th>\n",
       "      <th>DR_UR</th>\n",
       "      <th>Type</th>\n",
       "    </tr>\n",
       "  </thead>\n",
       "  <tbody>\n",
       "    <tr>\n",
       "      <th>277</th>\n",
       "      <td>ENSG00000146648</td>\n",
       "      <td>EGFR</td>\n",
       "      <td>42.085036</td>\n",
       "      <td>8.363408</td>\n",
       "      <td>0.865776</td>\n",
       "      <td>9.660011</td>\n",
       "      <td>4.458155e-22</td>\n",
       "      <td>5.969736e-21</td>\n",
       "      <td>UR</td>\n",
       "      <td>Cancer</td>\n",
       "    </tr>\n",
       "    <tr>\n",
       "      <th>564</th>\n",
       "      <td>ENSG00000277008</td>\n",
       "      <td>TEX28P2</td>\n",
       "      <td>1.711384</td>\n",
       "      <td>-3.657336</td>\n",
       "      <td>1.244697</td>\n",
       "      <td>-2.938333</td>\n",
       "      <td>3.299819e-03</td>\n",
       "      <td>7.848886e-03</td>\n",
       "      <td>DR</td>\n",
       "      <td>Cancer</td>\n",
       "    </tr>\n",
       "    <tr>\n",
       "      <th>89</th>\n",
       "      <td>ENSG00000251562</td>\n",
       "      <td>MALAT1</td>\n",
       "      <td>2.079223</td>\n",
       "      <td>3.951515</td>\n",
       "      <td>1.218987</td>\n",
       "      <td>3.241638</td>\n",
       "      <td>1.188449e-03</td>\n",
       "      <td>3.069867e-03</td>\n",
       "      <td>UR</td>\n",
       "      <td>Immune</td>\n",
       "    </tr>\n",
       "    <tr>\n",
       "      <th>61</th>\n",
       "      <td>ENSG00000253973</td>\n",
       "      <td>NaN</td>\n",
       "      <td>22.678176</td>\n",
       "      <td>-7.446339</td>\n",
       "      <td>0.901525</td>\n",
       "      <td>-8.259712</td>\n",
       "      <td>1.460242e-16</td>\n",
       "      <td>1.362453e-15</td>\n",
       "      <td>DR</td>\n",
       "      <td>Immune</td>\n",
       "    </tr>\n",
       "    <tr>\n",
       "      <th>141</th>\n",
       "      <td>ENSG00000123901</td>\n",
       "      <td>GPR83</td>\n",
       "      <td>6.418733</td>\n",
       "      <td>-5.604184</td>\n",
       "      <td>0.976453</td>\n",
       "      <td>-5.739327</td>\n",
       "      <td>9.505373e-09</td>\n",
       "      <td>4.663503e-08</td>\n",
       "      <td>DR</td>\n",
       "      <td>Immune</td>\n",
       "    </tr>\n",
       "    <tr>\n",
       "      <th>34</th>\n",
       "      <td>ENSG00000178761</td>\n",
       "      <td>FAM219B</td>\n",
       "      <td>3.690162</td>\n",
       "      <td>-4.821867</td>\n",
       "      <td>1.226620</td>\n",
       "      <td>-3.931019</td>\n",
       "      <td>8.458667e-05</td>\n",
       "      <td>2.606210e-04</td>\n",
       "      <td>DR</td>\n",
       "      <td>Immune</td>\n",
       "    </tr>\n",
       "  </tbody>\n",
       "</table>\n",
       "</div>"
      ],
      "text/plain": [
       "               Genes hgnc_symbol   baseMean  log2FoldChange     lfcSE  \\\n",
       "277  ENSG00000146648        EGFR  42.085036        8.363408  0.865776   \n",
       "564  ENSG00000277008     TEX28P2   1.711384       -3.657336  1.244697   \n",
       "89   ENSG00000251562      MALAT1   2.079223        3.951515  1.218987   \n",
       "61   ENSG00000253973         NaN  22.678176       -7.446339  0.901525   \n",
       "141  ENSG00000123901       GPR83   6.418733       -5.604184  0.976453   \n",
       "34   ENSG00000178761     FAM219B   3.690162       -4.821867  1.226620   \n",
       "\n",
       "         stat        pvalue          padj DR_UR    Type  \n",
       "277  9.660011  4.458155e-22  5.969736e-21    UR  Cancer  \n",
       "564 -2.938333  3.299819e-03  7.848886e-03    DR  Cancer  \n",
       "89   3.241638  1.188449e-03  3.069867e-03    UR  Immune  \n",
       "61  -8.259712  1.460242e-16  1.362453e-15    DR  Immune  \n",
       "141 -5.739327  9.505373e-09  4.663503e-08    DR  Immune  \n",
       "34  -3.931019  8.458667e-05  2.606210e-04    DR  Immune  "
      ]
     },
     "execution_count": 11,
     "metadata": {},
     "output_type": "execute_result"
    }
   ],
   "source": [
    "gene_data_wo_outliers.sample(frac=1).head(6)"
   ]
  },
  {
   "cell_type": "code",
   "execution_count": 12,
   "metadata": {},
   "outputs": [
    {
     "data": {
      "image/png": "[encoded data removed]",
      "text/plain": [
       "<Figure size 792.125x720 with 1 Axes>"
      ]
     },
     "metadata": {},
     "output_type": "display_data"
    }
   ],
   "source": [
    "sns.set_style(\"white\")\n",
    "sns.FacetGrid(gene_data_wo_outliers, hue=\"Type\", height=10) \\\n",
    "   .map(plt.scatter, \"stat\", \"log2FoldChange\") \\\n",
    "   .add_legend()\n",
    "plt.show()"
   ]
  },
  {
   "cell_type": "markdown",
   "metadata": {},
   "source": [
    "### Descriptive statistics"
   ]
  },
  {
   "cell_type": "code",
   "execution_count": 13,
   "metadata": {},
   "outputs": [
    {
     "name": "stdout",
     "output_type": "stream",
     "text": [
      "       baseMean  log2FoldChange    lfcSE     stat     pvalue       padj\n",
      "count   548.000         548.000  548.000  548.000  5.480e+02  5.480e+02\n",
      "mean     25.768           0.588    1.043    0.707  2.217e-03  4.653e-03\n",
      "std      45.215           6.202    0.168    6.646  5.371e-03  1.079e-02\n",
      "min       1.127         -10.115    0.828  -11.840  9.328e-37  2.767e-35\n",
      "25%       2.596          -4.783    0.896   -4.592  7.093e-17  6.788e-16\n",
      "50%       6.837           3.215    0.985    2.429  3.265e-08  1.524e-07\n",
      "75%      26.101           6.086    1.177    6.441  6.241e-04  1.686e-03\n",
      "max     321.830          10.818    1.549   12.664  2.563e-02  4.949e-02\n"
     ]
    }
   ],
   "source": [
    "pd.set_option('display.width', 100)\n",
    "pd.set_option('precision', 3)\n",
    "description = gene_data_wo_outliers.describe()\n",
    "print(description)"
   ]
  },
  {
   "cell_type": "markdown",
   "metadata": {},
   "source": [
    "#### Checking for class label distribution"
   ]
  },
  {
   "cell_type": "markdown",
   "metadata": {},
   "source": [
    "##### Checking whether class labels are imbalanced or not"
   ]
  },
  {
   "cell_type": "code",
   "execution_count": 14,
   "metadata": {},
   "outputs": [
    {
     "data": {
      "image/png": "[encoded data removed]",
      "text/plain": [
       "<Figure size 720x720 with 1 Axes>"
      ]
     },
     "metadata": {},
     "output_type": "display_data"
    }
   ],
   "source": [
    "plt.figure(figsize=(10,10))\n",
    "plt.rcParams[\"xtick.labelsize\"] = 20\n",
    "imbalance = sns.countplot(x='Type',hue=\"Type\",data=gene_data_wo_outliers)"
   ]
  },
  {
   "cell_type": "markdown",
   "metadata": {},
   "source": [
    "From the above plot, it is not completely imbalanced i.e. **82** data points are missing in ***Immune*** class label when compared with ***Cancer*** class label. Hence, we could do resampling, generate synthetic data using libraries such as SMOTE."
   ]
  },
  {
   "cell_type": "markdown",
   "metadata": {},
   "source": [
    "#### Correlation between features"
   ]
  },
  {
   "cell_type": "code",
   "execution_count": 15,
   "metadata": {},
   "outputs": [
    {
     "data": {
      "image/png": "[encoded data removed]",
      "text/plain": [
       "<Figure size 1440x1440 with 2 Axes>"
      ]
     },
     "metadata": {},
     "output_type": "display_data"
    }
   ],
   "source": [
    "correlation_Matrix = gene_data_wo_outliers.corr()\n",
    "features = correlation_Matrix.index\n",
    "plt.figure(figsize=(20,20))\n",
    "heatmap = sns.heatmap(gene_data[features].corr(),annot=True,cmap=\"RdYlGn\")"
   ]
  },
  {
   "cell_type": "code",
   "execution_count": 16,
   "metadata": {},
   "outputs": [
    {
     "name": "stdout",
     "output_type": "stream",
     "text": [
      "                baseMean  log2FoldChange  lfcSE   stat  pvalue   padj\n",
      "baseMean           1.000           0.143 -0.507  0.150  -0.221 -0.230\n",
      "log2FoldChange     0.143           1.000 -0.139  0.994  -0.075 -0.080\n",
      "lfcSE             -0.507          -0.139  1.000 -0.133   0.684  0.706\n",
      "stat               0.150           0.994 -0.133  1.000  -0.070 -0.074\n",
      "pvalue            -0.221          -0.075  0.684 -0.070   1.000  0.999\n",
      "padj              -0.230          -0.080  0.706 -0.074   0.999  1.000\n"
     ]
    }
   ],
   "source": [
    "print(correlation_Matrix)"
   ]
  },
  {
   "cell_type": "markdown",
   "metadata": {},
   "source": [
    "From the above heatmap and correlation matrix, it can be seen that ***log2FoldChange***, ***stat***, ***pvalue***, and ***padj*** are highly positive correlated which might decrease the performance of classification algorithms."
   ]
  },
  {
   "cell_type": "markdown",
   "metadata": {},
   "source": [
    "#### Checking the data distribution against each feature"
   ]
  },
  {
   "cell_type": "code",
   "execution_count": 17,
   "metadata": {},
   "outputs": [
    {
     "data": {
      "text/plain": [
       "<seaborn.axisgrid.PairGrid at 0x7ffb349f6160>"
      ]
     },
     "execution_count": 17,
     "metadata": {},
     "output_type": "execute_result"
    },
    {
     "data": {
      "image/png": "[encoded data removed]",
      "text/plain": [
       "<Figure size 1080x1080 with 42 Axes>"
      ]
     },
     "metadata": {},
     "output_type": "display_data"
    }
   ],
   "source": [
    "sns.pairplot(gene_data_wo_outliers)"
   ]
  },
  {
   "cell_type": "markdown",
   "metadata": {},
   "source": [
    "Along the diagonal, we could see the histogram representing the data distribution across all the features. Except, ***log2FoldChange*** and ***stat*** all other features have positively skewed data distribution. "
   ]
  },
  {
   "cell_type": "code",
   "execution_count": 18,
   "metadata": {},
   "outputs": [
    {
     "name": "stdout",
     "output_type": "stream",
     "text": [
      "baseMean          3.289\n",
      "log2FoldChange   -0.088\n",
      "lfcSE             0.697\n",
      "stat             -0.082\n",
      "pvalue            2.796\n",
      "padj              2.646\n",
      "dtype: float64\n"
     ]
    }
   ],
   "source": [
    "skew = gene_data_wo_outliers.skew()\n",
    "print(skew)"
   ]
  },
  {
   "cell_type": "markdown",
   "metadata": {},
   "source": [
    "From the above skew table, ***baseMean***, ***pvalue***, and ***padj*** are highly positively skewed and requires data transformation to reduce skewness."
   ]
  },
  {
   "cell_type": "code",
   "execution_count": 19,
   "metadata": {},
   "outputs": [
    {
     "data": {
      "text/plain": [
       "0.4903075599994971"
      ]
     },
     "execution_count": 19,
     "metadata": {},
     "output_type": "execute_result"
    }
   ],
   "source": [
    "np.log(gene_data_wo_outliers['baseMean']).skew()"
   ]
  },
  {
   "cell_type": "code",
   "execution_count": 20,
   "metadata": {},
   "outputs": [
    {
     "data": {
      "text/plain": [
       "padj      1.372\n",
       "pvalue    1.452\n",
       "dtype: float64"
      ]
     },
     "execution_count": 20,
     "metadata": {},
     "output_type": "execute_result"
    }
   ],
   "source": [
    "from scipy.stats import boxcox\n",
    "first_array = boxcox(gene_data_wo_outliers['padj']+1)[0]\n",
    "second_array = boxcox(gene_data_wo_outliers['pvalue']+1)[0]\n",
    "v = pd.DataFrame(first_array,columns=[\"padj\"])\n",
    "v['pvalue'] = second_array\n",
    "v.skew()"
   ]
  },
  {
   "cell_type": "code",
   "execution_count": 21,
   "metadata": {},
   "outputs": [
    {
     "name": "stderr",
     "output_type": "stream",
     "text": [
      "<ipython-input-21-4752c0d08285>:1: SettingWithCopyWarning: \n",
      "A value is trying to be set on a copy of a slice from a DataFrame.\n",
      "Try using .loc[row_indexer,col_indexer] = value instead\n",
      "\n",
      "See the caveats in the documentation: https://pandas.pydata.org/pandas-docs/stable/user_guide/indexing.html#returning-a-view-versus-a-copy\n",
      "  gene_data_wo_outliers['baseMean'] = np.log(gene_data_wo_outliers['baseMean'])\n"
     ]
    }
   ],
   "source": [
    "gene_data_wo_outliers['baseMean'] = np.log(gene_data_wo_outliers['baseMean'])"
   ]
  },
  {
   "cell_type": "code",
   "execution_count": 22,
   "metadata": {},
   "outputs": [
    {
     "data": {
      "text/plain": [
       "0.4903075599994971"
      ]
     },
     "execution_count": 22,
     "metadata": {},
     "output_type": "execute_result"
    }
   ],
   "source": [
    "gene_data_wo_outliers['baseMean'].skew()"
   ]
  },
  {
   "cell_type": "code",
   "execution_count": 23,
   "metadata": {},
   "outputs": [
    {
     "name": "stderr",
     "output_type": "stream",
     "text": [
      "<ipython-input-23-b2d0e239df29>:1: SettingWithCopyWarning: \n",
      "A value is trying to be set on a copy of a slice from a DataFrame.\n",
      "Try using .loc[row_indexer,col_indexer] = value instead\n",
      "\n",
      "See the caveats in the documentation: https://pandas.pydata.org/pandas-docs/stable/user_guide/indexing.html#returning-a-view-versus-a-copy\n",
      "  gene_data_wo_outliers['pvalue'] = boxcox(gene_data_wo_outliers['pvalue']+1)[0]\n",
      "<ipython-input-23-b2d0e239df29>:2: SettingWithCopyWarning: \n",
      "A value is trying to be set on a copy of a slice from a DataFrame.\n",
      "Try using .loc[row_indexer,col_indexer] = value instead\n",
      "\n",
      "See the caveats in the documentation: https://pandas.pydata.org/pandas-docs/stable/user_guide/indexing.html#returning-a-view-versus-a-copy\n",
      "  gene_data_wo_outliers['padj'] = boxcox(gene_data_wo_outliers['padj']+1)[0]\n"
     ]
    }
   ],
   "source": [
    "gene_data_wo_outliers['pvalue'] = boxcox(gene_data_wo_outliers['pvalue']+1)[0]\n",
    "gene_data_wo_outliers['padj'] = boxcox(gene_data_wo_outliers['padj']+1)[0]"
   ]
  },
  {
   "cell_type": "code",
   "execution_count": 24,
   "metadata": {},
   "outputs": [
    {
     "name": "stdout",
     "output_type": "stream",
     "text": [
      "baseMean          0.490\n",
      "log2FoldChange   -0.088\n",
      "lfcSE             0.697\n",
      "stat             -0.082\n",
      "pvalue            1.452\n",
      "padj              1.372\n",
      "dtype: float64\n"
     ]
    }
   ],
   "source": [
    "skew = gene_data_wo_outliers.skew()\n",
    "print(skew)"
   ]
  },
  {
   "cell_type": "code",
   "execution_count": 25,
   "metadata": {},
   "outputs": [
    {
     "data": {
      "text/html": [
       "<div>\n",
       "<style scoped>\n",
       "    .dataframe tbody tr th:only-of-type {\n",
       "        vertical-align: middle;\n",
       "    }\n",
       "\n",
       "    .dataframe tbody tr th {\n",
       "        vertical-align: top;\n",
       "    }\n",
       "\n",
       "    .dataframe thead th {\n",
       "        text-align: right;\n",
       "    }\n",
       "</style>\n",
       "<table border=\"1\" class=\"dataframe\">\n",
       "  <thead>\n",
       "    <tr style=\"text-align: right;\">\n",
       "      <th></th>\n",
       "      <th>Genes</th>\n",
       "      <th>hgnc_symbol</th>\n",
       "      <th>baseMean</th>\n",
       "      <th>log2FoldChange</th>\n",
       "      <th>lfcSE</th>\n",
       "      <th>stat</th>\n",
       "      <th>pvalue</th>\n",
       "      <th>padj</th>\n",
       "      <th>DR_UR</th>\n",
       "      <th>Type</th>\n",
       "    </tr>\n",
       "  </thead>\n",
       "  <tbody>\n",
       "    <tr>\n",
       "      <th>0</th>\n",
       "      <td>ENSG00000010626</td>\n",
       "      <td>LRRC23</td>\n",
       "      <td>1.032</td>\n",
       "      <td>-4.403</td>\n",
       "      <td>1.111</td>\n",
       "      <td>-3.963</td>\n",
       "      <td>7.305e-05</td>\n",
       "      <td>2.249e-04</td>\n",
       "      <td>DR</td>\n",
       "      <td>Immune</td>\n",
       "    </tr>\n",
       "    <tr>\n",
       "      <th>1</th>\n",
       "      <td>ENSG00000028277</td>\n",
       "      <td>POU2F2</td>\n",
       "      <td>3.773</td>\n",
       "      <td>-8.366</td>\n",
       "      <td>0.951</td>\n",
       "      <td>-8.797</td>\n",
       "      <td>0.000e+00</td>\n",
       "      <td>0.000e+00</td>\n",
       "      <td>DR</td>\n",
       "      <td>Immune</td>\n",
       "    </tr>\n",
       "    <tr>\n",
       "      <th>2</th>\n",
       "      <td>ENSG00000072952</td>\n",
       "      <td>MRVI1</td>\n",
       "      <td>1.921</td>\n",
       "      <td>-5.222</td>\n",
       "      <td>0.959</td>\n",
       "      <td>-5.444</td>\n",
       "      <td>5.213e-08</td>\n",
       "      <td>2.379e-07</td>\n",
       "      <td>DR</td>\n",
       "      <td>Immune</td>\n",
       "    </tr>\n",
       "    <tr>\n",
       "      <th>3</th>\n",
       "      <td>ENSG00000089820</td>\n",
       "      <td>ARHGAP4</td>\n",
       "      <td>2.449</td>\n",
       "      <td>-6.495</td>\n",
       "      <td>0.974</td>\n",
       "      <td>-6.665</td>\n",
       "      <td>2.638e-11</td>\n",
       "      <td>1.632e-10</td>\n",
       "      <td>DR</td>\n",
       "      <td>Immune</td>\n",
       "    </tr>\n",
       "    <tr>\n",
       "      <th>4</th>\n",
       "      <td>ENSG00000104522</td>\n",
       "      <td>TSTA3</td>\n",
       "      <td>3.174</td>\n",
       "      <td>-7.543</td>\n",
       "      <td>0.929</td>\n",
       "      <td>-8.119</td>\n",
       "      <td>4.441e-16</td>\n",
       "      <td>4.219e-15</td>\n",
       "      <td>DR</td>\n",
       "      <td>Immune</td>\n",
       "    </tr>\n",
       "  </tbody>\n",
       "</table>\n",
       "</div>"
      ],
      "text/plain": [
       "             Genes hgnc_symbol  baseMean  log2FoldChange  lfcSE   stat     pvalue       padj  \\\n",
       "0  ENSG00000010626      LRRC23     1.032          -4.403  1.111 -3.963  7.305e-05  2.249e-04   \n",
       "1  ENSG00000028277      POU2F2     3.773          -8.366  0.951 -8.797  0.000e+00  0.000e+00   \n",
       "2  ENSG00000072952       MRVI1     1.921          -5.222  0.959 -5.444  5.213e-08  2.379e-07   \n",
       "3  ENSG00000089820     ARHGAP4     2.449          -6.495  0.974 -6.665  2.638e-11  1.632e-10   \n",
       "4  ENSG00000104522       TSTA3     3.174          -7.543  0.929 -8.119  4.441e-16  4.219e-15   \n",
       "\n",
       "  DR_UR    Type  \n",
       "0    DR  Immune  \n",
       "1    DR  Immune  \n",
       "2    DR  Immune  \n",
       "3    DR  Immune  \n",
       "4    DR  Immune  "
      ]
     },
     "execution_count": 25,
     "metadata": {},
     "output_type": "execute_result"
    }
   ],
   "source": [
    "gene_data_wo_outliers.head()"
   ]
  },
  {
   "cell_type": "code",
   "execution_count": null,
   "metadata": {},
   "outputs": [],
   "source": [
    "gene_data_wo_outliers.to_csv(\"../Data/Preprocessed_gene_data.csv\")"
   ]
  },
  {
   "cell_type": "markdown",
   "metadata": {},
   "source": [
    "#### Segregating independent and dependent variables"
   ]
  },
  {
   "cell_type": "code",
   "execution_count": 26,
   "metadata": {},
   "outputs": [
    {
     "data": {
      "text/plain": [
       "0    315\n",
       "1    233\n",
       "Name: Type, dtype: int64"
      ]
     },
     "execution_count": 26,
     "metadata": {},
     "output_type": "execute_result"
    }
   ],
   "source": [
    "x = gene_data_wo_outliers.iloc[:,2:9]\n",
    "y = gene_data_wo_outliers.iloc[:,-1].to_frame(name=\"Type\")\n",
    "x = pd.get_dummies(x,columns=['DR_UR'],prefix = \"Gene\")\n",
    "\n",
    "lb_make = LabelEncoder()\n",
    "y['Type'] = lb_make.fit_transform(y['Type'])\n",
    "y.Type.value_counts()\n",
    "# 1- Immune and 0- Cancer"
   ]
  },
  {
   "cell_type": "code",
   "execution_count": 27,
   "metadata": {},
   "outputs": [
    {
     "data": {
      "text/plain": [
       "Index(['baseMean', 'log2FoldChange', 'lfcSE', 'stat', 'pvalue', 'padj', 'Gene_DR', 'Gene_UR'], dtype='object')"
      ]
     },
     "execution_count": 27,
     "metadata": {},
     "output_type": "execute_result"
    }
   ],
   "source": [
    "x.columns"
   ]
  },
  {
   "cell_type": "code",
   "execution_count": 28,
   "metadata": {},
   "outputs": [],
   "source": [
    "x_values = x.values\n",
    "y_values = y.values"
   ]
  },
  {
   "cell_type": "markdown",
   "metadata": {},
   "source": [
    "#### Feature Selection using PCA"
   ]
  },
  {
   "cell_type": "code",
   "execution_count": 29,
   "metadata": {},
   "outputs": [
    {
     "data": {
      "text/plain": [
       "PCA(n_components=0.95)"
      ]
     },
     "execution_count": 29,
     "metadata": {},
     "output_type": "execute_result"
    }
   ],
   "source": [
    "sc_PCA = StandardScaler()\n",
    "x_pca = x\n",
    "X_pca = sc_PCA.fit_transform(x_pca)\n",
    "pca = PCA(.95)\n",
    "pca.fit(X_pca)"
   ]
  },
  {
   "cell_type": "code",
   "execution_count": 30,
   "metadata": {},
   "outputs": [
    {
     "data": {
      "text/plain": [
       "array([0.53, 0.38, 0.06])"
      ]
     },
     "execution_count": 30,
     "metadata": {},
     "output_type": "execute_result"
    }
   ],
   "source": [
    "n_components = pca.components_.shape[0]\n",
    "pca.explained_variance_ratio_.round(2)"
   ]
  },
  {
   "cell_type": "code",
   "execution_count": 31,
   "metadata": {},
   "outputs": [
    {
     "data": {
      "text/plain": [
       "Index(['log2FoldChange', 'padj', 'baseMean'], dtype='object')"
      ]
     },
     "execution_count": 31,
     "metadata": {},
     "output_type": "execute_result"
    }
   ],
   "source": [
    "most_important = [np.abs(pca.components_[i]).argmax() for i in range(n_components)]\n",
    "x.columns[most_important]"
   ]
  },
  {
   "cell_type": "markdown",
   "metadata": {},
   "source": [
    "#### Data preparation - with all and selected features"
   ]
  },
  {
   "cell_type": "code",
   "execution_count": 59,
   "metadata": {},
   "outputs": [],
   "source": [
    "# With selected features\n",
    "x_selected = x_values[:,[0,1,5]]\n",
    "y_selected = y_values\n",
    "\n",
    "# With all features\n",
    "x_all = x_values\n",
    "y_all = y_values"
   ]
  },
  {
   "cell_type": "code",
   "execution_count": 60,
   "metadata": {},
   "outputs": [],
   "source": [
    "train_ratio = 0.75\n",
    "# validation_ratio = 0.15\n",
    "test_ratio = 0.25\n",
    "\n",
    "#with all features\n",
    "X_train, X_test, Y_train, Y_test = train_test_split(x_all, y_all,test_size= test_ratio, random_state=0)\n",
    "#X_train, X_val, Y_train, Y_val = train_test_split(X_train, Y_train, test_size=validation_ratio) \n",
    "\n",
    "#Scaling\n",
    "sc_X = StandardScaler()\n",
    "X_train = sc_X.fit_transform(X_train)\n",
    "X_test = sc_X.transform(X_test)\n",
    "#X_val = sc_X.transform(X_val)"
   ]
  },
  {
   "cell_type": "code",
   "execution_count": 61,
   "metadata": {},
   "outputs": [],
   "source": [
    "#with selected features\n",
    "X_train_sel, X_test_sel, Y_train_sel, Y_test_sel = train_test_split(x_selected, y_selected,test_size= test_ratio, random_state=0)\n",
    "#X_train_sel, X_val_sel, Y_train_sel, Y_val_sel = train_test_split(X_train_sel, Y_train_sel, test_size=validation_ratio)\n",
    "\n",
    "#Scaling\n",
    "sc_X_sel = StandardScaler()\n",
    "X_train_sel = sc_X_sel.fit_transform(X_train_sel)\n",
    "X_test_sel = sc_X_sel.transform(X_test_sel)\n",
    "#X_val_sel = sc_X_sel.transform(X_val_sel)\n"
   ]
  },
  {
   "cell_type": "markdown",
   "metadata": {},
   "source": [
    "### Decision Tree - without hyperparameters"
   ]
  },
  {
   "cell_type": "markdown",
   "metadata": {},
   "source": [
    "#### With all and selected features"
   ]
  },
  {
   "cell_type": "code",
   "execution_count": 62,
   "metadata": {},
   "outputs": [],
   "source": [
    "# Create Decision Tree classifer object\n",
    "clf_all = DecisionTreeClassifier(criterion=\"gini\", splitter=\"random\")\n",
    "clf_sel = DecisionTreeClassifier(criterion=\"gini\", splitter=\"random\")\n",
    "\n",
    "# Train Decision Tree Classifer with all features\n",
    "classifier_all = clf_all.fit(X_train,Y_train)\n",
    "classifier_sel = clf_sel.fit(X_train_sel,Y_train_sel)\n",
    "\n",
    "#Predict the response for train_all and train_selected dataset\n",
    "Y_pred_train_all = classifier_all.predict(X_train)\n",
    "Y_pred_train_sel = classifier_sel.predict(X_train_sel)\n",
    "\n",
    "#Predict the response for test_all and test_selected dataset\n",
    "Y_pred_test_all = classifier_all.predict(X_test)\n",
    "Y_pred_test_sel = classifier_sel.predict(X_test_sel)\n",
    "\n",
    "#Predict the response for val_all and val_selected dataset\n",
    "# Y_pred_val_all = classifier_all.predict(X_val)\n",
    "# Y_pred_val_sel = classifier_sel.predict(X_val_sel)\n"
   ]
  },
  {
   "cell_type": "code",
   "execution_count": 63,
   "metadata": {
    "scrolled": false
   },
   "outputs": [
    {
     "name": "stdout",
     "output_type": "stream",
     "text": [
      "Training metrics\n",
      "============================\n",
      "Train_Accuracy_all: 1.0\n",
      "Train_Accuracy_sel: 1.0\n",
      "Train_precision_recall_f1_score_all: (1.0, 1.0, 1.0, None)\n",
      "Train_precision_recall_f1_score_sel: (1.0, 1.0, 1.0, None)\n",
      "\n",
      "\n",
      "Testing metrics\n",
      "============================\n",
      "Test_Accuracy_all: 0.96\n",
      "Test_Accuracy_sel: 0.95\n",
      "Test_precision_recall_f1_score_all: (0.9795918367346939, 0.9056603773584906, 0.9411764705882353, None)\n",
      "Test_precision_recall_f1_score_sel: (0.9423076923076923, 0.9245283018867925, 0.9333333333333333, None)\n"
     ]
    }
   ],
   "source": [
    "print(\"Training metrics\")\n",
    "print(\"============================\")\n",
    "print(\"Train_Accuracy_all:\",round(metrics.accuracy_score(Y_train, Y_pred_train_all),2))\n",
    "print(\"Train_Accuracy_sel:\",round(metrics.accuracy_score(Y_train_sel, Y_pred_train_sel),2))\n",
    "print(\"Train_precision_recall_f1_score_all:\",precision_recall_fscore_support(Y_train, Y_pred_train_all, average='binary'))\n",
    "print(\"Train_precision_recall_f1_score_sel:\",precision_recall_fscore_support(Y_train_sel, Y_pred_train_sel, average='binary'))\n",
    "print(\"\\n\")\n",
    "print(\"Testing metrics\")\n",
    "print(\"============================\")\n",
    "print(\"Test_Accuracy_all:\",round(metrics.accuracy_score(Y_test, Y_pred_test_all),2))\n",
    "print(\"Test_Accuracy_sel:\",round(metrics.accuracy_score(Y_test_sel, Y_pred_test_sel),2))\n",
    "print(\"Test_precision_recall_f1_score_all:\",precision_recall_fscore_support(Y_test, Y_pred_test_all, average='binary'))\n",
    "print(\"Test_precision_recall_f1_score_sel:\",precision_recall_fscore_support(Y_test_sel, Y_pred_test_sel, average='binary'))\n",
    "# print(\"\\n\")\n",
    "# print(\"Validation metrics\")\n",
    "# print(\"============================\")\n",
    "# print(\"Val_Accuracy_all:\",round(metrics.accuracy_score(Y_val, Y_pred_val_all),2))\n",
    "# print(\"Val_Accuracy_sel:\",round(metrics.accuracy_score(Y_val_sel, Y_pred_val_sel),2))\n",
    "# print(\"Val_precision_recall_f1_score_hyp_all:\",precision_recall_fscore_support(Y_val, Y_pred_val_all, average='binary'))\n",
    "# print(\"Val_precision_recall_f1_score_sel:\",precision_recall_fscore_support(Y_val_sel, Y_pred_val_sel, average='binary'))\n",
    "\n",
    "\n"
   ]
  },
  {
   "cell_type": "markdown",
   "metadata": {},
   "source": [
    "### Finding hyperparameters for Decision tree"
   ]
  },
  {
   "cell_type": "code",
   "execution_count": 64,
   "metadata": {},
   "outputs": [
    {
     "name": "stdout",
     "output_type": "stream",
     "text": [
      "Data with all features\n",
      "Param for DT with all features {'max_depth': 15, 'min_samples_leaf': 1, 'min_samples_split': 7}\n",
      "CV score for DT with all features 0.9836054558892696\n",
      "Train F1 Score for train with all features:  0.9775280898876404\n",
      "Test F1 Score for test with all features:  0.9607843137254902\n",
      "\n",
      "\n",
      "PCA dataset\n",
      "Param for DT with all features {'max_depth': 15, 'min_samples_leaf': 1, 'min_samples_split': 7}\n",
      "CV score for DT with all features 0.9836054558892696\n",
      "Train F1 Score for train with selected features:  0.9608938547486034\n",
      "Test F1 Score for test with selected features:  0.9523809523809524\n",
      "Classification report for data with all features\n",
      "              precision    recall  f1-score   support\n",
      "\n",
      "           0       0.97      0.99      0.98       231\n",
      "           1       0.99      0.97      0.98       180\n",
      "\n",
      "    accuracy                           0.98       411\n",
      "   macro avg       0.98      0.98      0.98       411\n",
      "weighted avg       0.98      0.98      0.98       411\n",
      "\n",
      "              precision    recall  f1-score   support\n",
      "\n",
      "           0       0.95      1.00      0.98        84\n",
      "           1       1.00      0.92      0.96        53\n",
      "\n",
      "    accuracy                           0.97       137\n",
      "   macro avg       0.98      0.96      0.97       137\n",
      "weighted avg       0.97      0.97      0.97       137\n",
      "\n",
      "\n",
      " Classification report for data with selected features\n",
      "              precision    recall  f1-score   support\n",
      "\n",
      "           0       0.97      0.97      0.97       231\n",
      "           1       0.97      0.96      0.96       180\n",
      "\n",
      "    accuracy                           0.97       411\n",
      "   macro avg       0.97      0.96      0.97       411\n",
      "weighted avg       0.97      0.97      0.97       411\n",
      "\n",
      "              precision    recall  f1-score   support\n",
      "\n",
      "           0       0.96      0.98      0.97        84\n",
      "           1       0.96      0.94      0.95        53\n",
      "\n",
      "    accuracy                           0.96       137\n",
      "   macro avg       0.96      0.96      0.96       137\n",
      "weighted avg       0.96      0.96      0.96       137\n",
      "\n"
     ]
    }
   ],
   "source": [
    "param_grid = {\n",
    "    \"max_depth\": [3,5,10,15,20,None],\n",
    "    \"min_samples_split\": [2,5,7,10],\n",
    "    \"min_samples_leaf\": [1,2,5]\n",
    "}\n",
    "\n",
    "clf_cv_all = DecisionTreeClassifier(criterion=\"gini\", splitter=\"random\")\n",
    "clf_cv_sel = DecisionTreeClassifier(criterion=\"gini\", splitter=\"random\")\n",
    "grid_cv_all = GridSearchCV(clf_cv_all, param_grid, scoring=\"f1\", n_jobs=-1, cv=3).fit(X_train, Y_train)\n",
    "grid_cv_sel = GridSearchCV(clf_cv_sel, param_grid, scoring=\"f1\", n_jobs=-1, cv=3).fit(X_train_sel, Y_train_sel)\n",
    "\n",
    "print(\"Data with all features\")\n",
    "print(\"Param for DT with all features\", grid_cv_all.best_params_)\n",
    "print(\"CV score for DT with all features\", grid_cv_all.best_score_)\n",
    "print(\"Train F1 Score for train with all features: \", metrics.f1_score(Y_train, grid_cv_all.predict(X_train)))\n",
    "print(\"Test F1 Score for test with all features: \", metrics.f1_score(Y_test, grid_cv_all.predict(X_test)))\n",
    "# print(\"Test F1 Score for valid with all features: \", metrics.f1_score(Y_val, grid_cv_all.predict(X_val)))\n",
    "\n",
    "print(\"\\n\")\n",
    "print(\"PCA dataset\")\n",
    "print(\"Param for DT with all features\", grid_cv_all.best_params_)\n",
    "print(\"CV score for DT with all features\", grid_cv_all.best_score_)\n",
    "print(\"Train F1 Score for train with selected features: \", metrics.f1_score(Y_train_sel, grid_cv_sel.predict(X_train_sel)))\n",
    "print(\"Test F1 Score for test with selected features: \", metrics.f1_score(Y_test_sel, grid_cv_sel.predict(X_test_sel)))\n",
    "# print(\"Test F1 Score for valid with selected features: \", metrics.f1_score(Y_val_sel, grid_cv_sel.predict(X_val_sel)))\n",
    "\n",
    "\n",
    "print(\"Classification report for data with all features\")\n",
    "grid_dt_all_prediction_train = grid_cv_all.predict(X_train)\n",
    "\n",
    "# print classification report \n",
    "print(metrics.classification_report(Y_train, grid_dt_all_prediction_train)) \n",
    "\n",
    "grid_dt_all_prediction_test = grid_cv_all.predict(X_test) \n",
    "  \n",
    "# print classification report \n",
    "print(metrics.classification_report(Y_test, grid_dt_all_prediction_test)) \n",
    "\n",
    "# grid_dt_all_prediction_val = grid_cv_all.predict(X_val) \n",
    "  \n",
    "# print classification report \n",
    "# print(metrics.classification_report(Y_val, grid_dt_all_prediction_val)) \n",
    "\n",
    "\n",
    "print(\"\\n Classification report for data with selected features\")\n",
    "grid_dt_sel_prediction_train = grid_cv_sel.predict(X_train_sel)\n",
    "\n",
    "# print classification report \n",
    "print(metrics.classification_report(Y_train_sel, grid_dt_sel_prediction_train)) \n",
    "\n",
    "grid_dt_sel_prediction_test = grid_cv_sel.predict(X_test_sel) \n",
    "  \n",
    "# print classification report \n",
    "print(metrics.classification_report(Y_test_sel, grid_dt_sel_prediction_test)) \n",
    "\n",
    "# grid_dt_sel_prediction_val = grid_cv_sel.predict(X_val_sel) \n",
    "  \n",
    "# print classification report \n",
    "# print(metrics.classification_report(Y_val_sel, grid_dt_sel_prediction_val)) \n",
    "\n"
   ]
  },
  {
   "cell_type": "markdown",
   "metadata": {},
   "source": [
    "Selected hyperparameters are <b>max_depth=3, min_samples_leaf=1, min_samples_split=2</b>"
   ]
  },
  {
   "cell_type": "markdown",
   "metadata": {},
   "source": [
    "### Decision Tree - with hyperparameters"
   ]
  },
  {
   "cell_type": "code",
   "execution_count": 65,
   "metadata": {},
   "outputs": [],
   "source": [
    "# Create Decision Tree classifer object with hyperparameters\n",
    "clf_all_hyp = DecisionTreeClassifier(criterion=\"gini\", splitter=\"random\",max_depth=3,min_samples_leaf=1,min_samples_split=2)\n",
    "clf_sel_hyp = DecisionTreeClassifier(criterion=\"gini\", splitter=\"random\",max_depth=3,min_samples_leaf=1,min_samples_split=2)\n",
    "\n",
    "# Train Decision Tree Classifer with all features\n",
    "classifier_hyp_all = clf_all_hyp.fit(X_train,Y_train)\n",
    "\n",
    "# Train Decision Tree Classifer with selected features\n",
    "classifier_hyp_sel = clf_sel_hyp.fit(X_train_sel,Y_train_sel)\n",
    "\n",
    "#Predict the response for train_all and train_selected dataset\n",
    "Y_pred_hyp_train_all = classifier_hyp_all.predict(X_train)\n",
    "Y_pred_hyp_train_sel = classifier_hyp_sel.predict(X_train_sel)\n",
    "\n",
    "#Predict the response for test_all and test_selected dataset\n",
    "Y_pred_hyp_test_all = classifier_hyp_all.predict(X_test)\n",
    "Y_pred_hyp_test_sel = classifier_hyp_sel.predict(X_test_sel)\n",
    "\n",
    "#Predict the response for val_all and val_selected dataset\n",
    "# Y_pred_hyp_val_all = classifier_hyp_all.predict(X_val)\n",
    "# Y_pred_hyp_val_sel = classifier_hyp_sel.predict(X_val_sel)\n"
   ]
  },
  {
   "cell_type": "code",
   "execution_count": 66,
   "metadata": {},
   "outputs": [
    {
     "name": "stdout",
     "output_type": "stream",
     "text": [
      "Training metrics\n",
      "============================\n",
      "Train_Accuracy_all: 0.97\n",
      "Train_Accuracy_sel: 0.96\n",
      "Train_precision_recall_f1_score_hyp_all: (0.9720670391061452, 0.9666666666666667, 0.9693593314763231, None)\n",
      "Train_precision_recall_f1_score_hyp_sel: (0.9879518072289156, 0.9111111111111111, 0.9479768786127168, None)\n",
      "\n",
      "\n",
      "Testing metrics\n",
      "============================\n",
      "Test_Accuracy_all: 0.99\n",
      "Test_Accuracy_sel: 0.96\n",
      "Test_precision_recall_f1_score_hyp_all: (1.0, 0.9622641509433962, 0.9807692307692307, None)\n",
      "Test_precision_recall_f1_score_hyp_sel: (1.0, 0.8867924528301887, 0.9400000000000001, None)\n"
     ]
    }
   ],
   "source": [
    "print(\"Training metrics\")\n",
    "print(\"============================\")\n",
    "print(\"Train_Accuracy_all:\",round(metrics.accuracy_score(Y_train, Y_pred_hyp_train_all),2))\n",
    "print(\"Train_Accuracy_sel:\",round(metrics.accuracy_score(Y_train_sel, Y_pred_hyp_train_sel),2))\n",
    "print(\"Train_precision_recall_f1_score_hyp_all:\",precision_recall_fscore_support(Y_train, Y_pred_hyp_train_all, average='binary'))\n",
    "print(\"Train_precision_recall_f1_score_hyp_sel:\",precision_recall_fscore_support(Y_train_sel, Y_pred_hyp_train_sel, average='binary'))\n",
    "print(\"\\n\")\n",
    "print(\"Testing metrics\")\n",
    "print(\"============================\")\n",
    "print(\"Test_Accuracy_all:\",round(metrics.accuracy_score(Y_test, Y_pred_hyp_test_all),2))\n",
    "print(\"Test_Accuracy_sel:\",round(metrics.accuracy_score(Y_test_sel, Y_pred_hyp_test_sel),2))\n",
    "print(\"Test_precision_recall_f1_score_hyp_all:\",precision_recall_fscore_support(Y_test, Y_pred_hyp_test_all, average='binary'))\n",
    "print(\"Test_precision_recall_f1_score_hyp_sel:\",precision_recall_fscore_support(Y_test_sel, Y_pred_hyp_test_sel, average='binary'))\n",
    "# print(\"\\n\")\n",
    "# print(\"Validation metrics\")\n",
    "# print(\"============================\")\n",
    "# print(\"Val_Accuracy_all:\",round(metrics.accuracy_score(Y_val, Y_pred_hyp_val_all),2))\n",
    "# print(\"Val_Accuracy_sel:\",round(metrics.accuracy_score(Y_val_sel, Y_pred_hyp_val_sel),2))\n",
    "# print(\"Val_precision_recall_f1_score_hyp_all:\",precision_recall_fscore_support(Y_val, Y_pred_hyp_val_all, average='binary'))\n",
    "# print(\"Val_precision_recall_f1_score_hyp_sel:\",precision_recall_fscore_support(Y_val_sel, Y_pred_hyp_val_sel, average='binary'))\n",
    "\n"
   ]
  },
  {
   "cell_type": "markdown",
   "metadata": {},
   "source": [
    "### Random Forest"
   ]
  },
  {
   "cell_type": "markdown",
   "metadata": {},
   "source": [
    "#### with all and selected features"
   ]
  },
  {
   "cell_type": "code",
   "execution_count": 67,
   "metadata": {},
   "outputs": [
    {
     "name": "stderr",
     "output_type": "stream",
     "text": [
      "<ipython-input-67-b7f349479b0b>:4: DataConversionWarning: A column-vector y was passed when a 1d array was expected. Please change the shape of y to (n_samples,), for example using ravel().\n",
      "  rf_classifier_all = rf_all.fit(X_train,Y_train)\n",
      "<ipython-input-67-b7f349479b0b>:5: DataConversionWarning: A column-vector y was passed when a 1d array was expected. Please change the shape of y to (n_samples,), for example using ravel().\n",
      "  rf_classifier_selected = rf_selected.fit(X_train_sel,Y_train_sel)\n"
     ]
    }
   ],
   "source": [
    "rf_all = RandomForestClassifier()\n",
    "rf_selected = RandomForestClassifier()\n",
    "\n",
    "rf_classifier_all = rf_all.fit(X_train,Y_train)\n",
    "rf_classifier_selected = rf_selected.fit(X_train_sel,Y_train_sel)\n",
    "\n",
    "#Predict the response for train_all and train_selected dataset\n",
    "Y_pred_rf_train_all = rf_classifier_all.predict(X_train)\n",
    "Y_pred_rf_train_selected = rf_classifier_selected.predict(X_train_sel)\n",
    "\n",
    "#Predict the response for test_all and test_selected dataset\n",
    "Y_pred_rf_test_all = rf_classifier_all.predict(X_test)\n",
    "Y_pred_rf_test_selected = rf_classifier_selected.predict(X_test_sel)\n",
    "\n",
    "#Predict the response for val_all and val_selected dataset\n",
    "# Y_pred_rf_val_all = rf_classifier_all.predict(X_val)\n",
    "# Y_pred_rf_val_selected = rf_classifier_selected.predict(X_val_sel)"
   ]
  },
  {
   "cell_type": "code",
   "execution_count": 68,
   "metadata": {},
   "outputs": [
    {
     "name": "stdout",
     "output_type": "stream",
     "text": [
      "Training Metrics\n",
      "============================\n",
      "RF_Accuracy_all: 1.0\n",
      "RF_Accuracy_selected: 1.0\n",
      "RF_Train_precision_recall_f1_score_all: (1.0, 1.0, 1.0, None)\n",
      "RF_Train_precision_recall_f1_score_sel: (1.0, 1.0, 1.0, None)\n",
      "\n",
      "\n",
      "Testing Metrics\n",
      "============================\n",
      "RF_Accuracy_all: 0.99\n",
      "RF_Accuracy_selected: 0.99\n",
      "RF_Test_precision_recall_f1_score_all: (1.0, 0.9622641509433962, 0.9807692307692307, None)\n",
      "RF_Test_precision_recall_f1_score_sel: (1.0, 0.9622641509433962, 0.9807692307692307, None)\n"
     ]
    }
   ],
   "source": [
    "print(\"Training Metrics\")\n",
    "print(\"============================\")\n",
    "print(\"RF_Accuracy_all:\",round(metrics.accuracy_score(Y_train, Y_pred_rf_train_all),2))\n",
    "print(\"RF_Accuracy_selected:\",round(metrics.accuracy_score(Y_train_sel, Y_pred_rf_train_selected),2))\n",
    "print(\"RF_Train_precision_recall_f1_score_all:\",precision_recall_fscore_support(Y_train, Y_pred_rf_train_all, average='binary'))\n",
    "print(\"RF_Train_precision_recall_f1_score_sel:\",precision_recall_fscore_support(Y_train_sel, Y_pred_rf_train_selected, average='binary'))\n",
    "print(\"\\n\")\n",
    "print(\"Testing Metrics\")\n",
    "print(\"============================\")\n",
    "print(\"RF_Accuracy_all:\",round(metrics.accuracy_score(Y_test, Y_pred_rf_test_all),2))\n",
    "print(\"RF_Accuracy_selected:\",round(metrics.accuracy_score(Y_test_sel, Y_pred_rf_test_selected),2))\n",
    "print(\"RF_Test_precision_recall_f1_score_all:\",precision_recall_fscore_support(Y_test, Y_pred_rf_test_all, average='binary'))\n",
    "print(\"RF_Test_precision_recall_f1_score_sel:\",precision_recall_fscore_support(Y_test_sel, Y_pred_rf_test_selected, average='binary'))\n",
    "# print(\"\\n\")\n",
    "# print(\"Validation Metrics\")\n",
    "# print(\"============================\")\n",
    "# print(\"RF_Accuracy_all:\",round(metrics.accuracy_score(Y_val, Y_pred_rf_val_all),2))\n",
    "# print(\"RF_Accuracy_selected:\",round(metrics.accuracy_score(Y_val_sel, Y_pred_rf_val_selected),2))\n",
    "# print(\"RF_Val_precision_recall_f1_score_all:\",precision_recall_fscore_support(Y_val, Y_pred_rf_val_all, average='binary'))\n",
    "# print(\"RF_Val_precision_recall_f1_score_sel:\",precision_recall_fscore_support(Y_val_sel, Y_pred_rf_val_selected, average='binary'))\n"
   ]
  },
  {
   "cell_type": "markdown",
   "metadata": {},
   "source": [
    "### Finding hyperparameters for Random Forest"
   ]
  },
  {
   "cell_type": "code",
   "execution_count": 69,
   "metadata": {},
   "outputs": [
    {
     "name": "stderr",
     "output_type": "stream",
     "text": [
      "/Users/lawrence/opt/anaconda3/lib/python3.8/site-packages/sklearn/model_selection/_search.py:765: DataConversionWarning: A column-vector y was passed when a 1d array was expected. Please change the shape of y to (n_samples,), for example using ravel().\n",
      "  self.best_estimator_.fit(X, y, **fit_params)\n",
      "/Users/lawrence/opt/anaconda3/lib/python3.8/site-packages/sklearn/model_selection/_search.py:765: DataConversionWarning: A column-vector y was passed when a 1d array was expected. Please change the shape of y to (n_samples,), for example using ravel().\n",
      "  self.best_estimator_.fit(X, y, **fit_params)\n"
     ]
    },
    {
     "name": "stdout",
     "output_type": "stream",
     "text": [
      "Data with all features\n",
      "Param for DT with all features {'bootstrap': True, 'max_depth': 90, 'max_features': 3, 'min_samples_leaf': 3, 'min_samples_split': 8, 'n_estimators': 200}\n",
      "CV score for DT with all features 0.9861795958052642\n",
      "Train F1 Score for train with all features:  0.9916897506925207\n",
      "Test F1 Score for test with all features:  0.9807692307692307\n",
      "\n",
      "\n",
      "PCA dataset\n",
      "Param for DT with all features {'bootstrap': True, 'max_depth': 90, 'max_features': 3, 'min_samples_leaf': 3, 'min_samples_split': 8, 'n_estimators': 200}\n",
      "CV score for DT with all features 0.9861795958052642\n",
      "Train F1 Score for train with selected features:  0.9861495844875346\n",
      "Test F1 Score for test with selected features:  0.9807692307692307\n",
      "Classification report for data with all features\n",
      "              precision    recall  f1-score   support\n",
      "\n",
      "           0       1.00      0.99      0.99       231\n",
      "           1       0.99      0.99      0.99       180\n",
      "\n",
      "    accuracy                           0.99       411\n",
      "   macro avg       0.99      0.99      0.99       411\n",
      "weighted avg       0.99      0.99      0.99       411\n",
      "\n",
      "              precision    recall  f1-score   support\n",
      "\n",
      "           0       0.98      1.00      0.99        84\n",
      "           1       1.00      0.96      0.98        53\n",
      "\n",
      "    accuracy                           0.99       137\n",
      "   macro avg       0.99      0.98      0.98       137\n",
      "weighted avg       0.99      0.99      0.99       137\n",
      "\n",
      "\n",
      " Classification report for data with selected features\n",
      "              precision    recall  f1-score   support\n",
      "\n",
      "           0       0.99      0.99      0.99       231\n",
      "           1       0.98      0.99      0.99       180\n",
      "\n",
      "    accuracy                           0.99       411\n",
      "   macro avg       0.99      0.99      0.99       411\n",
      "weighted avg       0.99      0.99      0.99       411\n",
      "\n",
      "              precision    recall  f1-score   support\n",
      "\n",
      "           0       0.98      1.00      0.99        84\n",
      "           1       1.00      0.96      0.98        53\n",
      "\n",
      "    accuracy                           0.99       137\n",
      "   macro avg       0.99      0.98      0.98       137\n",
      "weighted avg       0.99      0.99      0.99       137\n",
      "\n"
     ]
    }
   ],
   "source": [
    "param_grid = {\n",
    "    'bootstrap': [True],\n",
    "    'max_depth': [80, 90, 100, 110],\n",
    "    'max_features': [2, 3],\n",
    "    'min_samples_leaf': [3, 4, 5],\n",
    "    'min_samples_split': [8, 10, 12],\n",
    "    'n_estimators': [100, 200, 300, 1000]\n",
    "}\n",
    "\n",
    "rf_cv_all = RandomForestClassifier()\n",
    "rf_cv_sel = RandomForestClassifier()\n",
    "grid_cv_all = GridSearchCV(rf_cv_all, param_grid, scoring=\"f1\", n_jobs=-1, cv=3).fit(X_train, Y_train)\n",
    "grid_cv_sel = GridSearchCV(rf_cv_sel, param_grid, scoring=\"f1\", n_jobs=-1, cv=3).fit(X_train_sel, Y_train_sel)\n",
    "\n",
    "print(\"Data with all features\")\n",
    "print(\"Param for DT with all features\", grid_cv_all.best_params_)\n",
    "print(\"CV score for DT with all features\", grid_cv_all.best_score_)\n",
    "print(\"Train F1 Score for train with all features: \", metrics.f1_score(Y_train, grid_cv_all.predict(X_train)))\n",
    "print(\"Test F1 Score for test with all features: \", metrics.f1_score(Y_test, grid_cv_all.predict(X_test)))\n",
    "# print(\"Test F1 Score for valid with all features: \", metrics.f1_score(Y_val, grid_cv_all.predict(X_val)))\n",
    "\n",
    "print(\"\\n\")\n",
    "print(\"PCA dataset\")\n",
    "print(\"Param for DT with all features\", grid_cv_all.best_params_)\n",
    "print(\"CV score for DT with all features\", grid_cv_all.best_score_)\n",
    "print(\"Train F1 Score for train with selected features: \", metrics.f1_score(Y_train_sel, grid_cv_sel.predict(X_train_sel)))\n",
    "print(\"Test F1 Score for test with selected features: \", metrics.f1_score(Y_test_sel, grid_cv_sel.predict(X_test_sel)))\n",
    "# print(\"Test F1 Score for valid with selected features: \", metrics.f1_score(Y_val_sel, grid_cv_sel.predict(X_val_sel)))\n",
    "\n",
    "\n",
    "print(\"Classification report for data with all features\")\n",
    "grid_rf_all_prediction_train = grid_cv_all.predict(X_train)\n",
    "\n",
    "# print classification report \n",
    "print(metrics.classification_report(Y_train, grid_rf_all_prediction_train)) \n",
    "\n",
    "grid_rf_all_prediction_test = grid_cv_all.predict(X_test) \n",
    "  \n",
    "# print classification report \n",
    "print(metrics.classification_report(Y_test, grid_rf_all_prediction_test)) \n",
    "\n",
    "# grid_rf_all_prediction_val = grid_cv_all.predict(X_val) \n",
    "  \n",
    "# print classification report \n",
    "# print(metrics.classification_report(Y_val, grid_rf_all_prediction_val)) \n",
    "\n",
    "\n",
    "print(\"\\n Classification report for data with selected features\")\n",
    "grid_rf_sel_prediction_train = grid_cv_sel.predict(X_train_sel)\n",
    "\n",
    "# print classification report \n",
    "print(metrics.classification_report(Y_train_sel, grid_rf_sel_prediction_train)) \n",
    "\n",
    "grid_rf_sel_prediction_test = grid_cv_sel.predict(X_test_sel) \n",
    "  \n",
    "# print classification report \n",
    "print(metrics.classification_report(Y_test_sel, grid_rf_sel_prediction_test)) \n",
    "\n",
    "# grid_rf_sel_prediction_val = grid_cv_sel.predict(X_val_sel) \n",
    "  \n",
    "# print classification report \n",
    "# print(metrics.classification_report(Y_val_sel, grid_rf_sel_prediction_val)) \n"
   ]
  },
  {
   "cell_type": "markdown",
   "metadata": {},
   "source": [
    "### Random Forest with hyperparameters"
   ]
  },
  {
   "cell_type": "code",
   "execution_count": 70,
   "metadata": {},
   "outputs": [
    {
     "name": "stderr",
     "output_type": "stream",
     "text": [
      "<ipython-input-70-380306c8368d>:6: DataConversionWarning: A column-vector y was passed when a 1d array was expected. Please change the shape of y to (n_samples,), for example using ravel().\n",
      "  rf_hyp_classifier_all = rf_hyp_all.fit(X_train,Y_train)\n",
      "<ipython-input-70-380306c8368d>:7: DataConversionWarning: A column-vector y was passed when a 1d array was expected. Please change the shape of y to (n_samples,), for example using ravel().\n",
      "  rf_hyp_classifier_selected = rf_hyp_selected.fit(X_train_sel,Y_train_sel)\n"
     ]
    }
   ],
   "source": [
    "rf_hyp_all = RandomForestClassifier(bootstrap = True, max_depth=80, max_features = 3, min_samples_leaf = 3,\n",
    "                                   min_samples_split = 8, n_estimators = 300)\n",
    "rf_hyp_selected = RandomForestClassifier(bootstrap = True, max_depth=80, max_features = 3, min_samples_leaf = 3,\n",
    "                                   min_samples_split = 8, n_estimators = 300)\n",
    "\n",
    "rf_hyp_classifier_all = rf_hyp_all.fit(X_train,Y_train)\n",
    "rf_hyp_classifier_selected = rf_hyp_selected.fit(X_train_sel,Y_train_sel)\n",
    "\n",
    "#Predict the response for train_all and train_selected dataset\n",
    "Y_pred_rf_hyp_train_all = rf_hyp_classifier_all.predict(X_train)\n",
    "Y_pred_rf_hyp_train_selected = rf_hyp_classifier_selected.predict(X_train_sel)\n",
    "\n",
    "#Predict the response for test_all and test_selected dataset\n",
    "Y_pred_rf_hyp_test_all = rf_hyp_classifier_all.predict(X_test)\n",
    "Y_pred_rf_hyp_test_selected = rf_hyp_classifier_selected.predict(X_test_sel)\n",
    "\n",
    "#Predict the response for val_all and val_selected dataset\n",
    "# Y_pred_rf_hyp_val_all = rf_hyp_classifier_all.predict(X_val)\n",
    "# Y_pred_rf_hyp_val_selected = rf_hyp_classifier_selected.predict(X_val_sel)"
   ]
  },
  {
   "cell_type": "code",
   "execution_count": 71,
   "metadata": {},
   "outputs": [
    {
     "name": "stdout",
     "output_type": "stream",
     "text": [
      "Training Metrics\n",
      "============================\n",
      "RF_hyp_Accuracy_all: 0.99\n",
      "RF_hyp_Accuracy_selected: 0.99\n",
      "RF_Train_precision_recall_f1_score_hyp_all: (0.988950276243094, 0.9944444444444445, 0.9916897506925207, None)\n",
      "RF_Train_precision_recall_f1_score_hyp_sel: (0.9834254143646409, 0.9888888888888889, 0.9861495844875346, None)\n",
      "\n",
      "\n",
      "Testing Metrics\n",
      "============================\n",
      "RF_hyp_Accuracy_all: 0.99\n",
      "RF_hyp_Accuracy_selected: 0.99\n",
      "RF_Test_precision_recall_f1_score_hyp_all: (1.0, 0.9622641509433962, 0.9807692307692307, None)\n",
      "RF_Test_precision_recall_f1_score_hyp_sel: (1.0, 0.9622641509433962, 0.9807692307692307, None)\n"
     ]
    }
   ],
   "source": [
    "print(\"Training Metrics\")\n",
    "print(\"============================\")\n",
    "print(\"RF_hyp_Accuracy_all:\",round(metrics.accuracy_score(Y_train, Y_pred_rf_hyp_train_all),2))\n",
    "print(\"RF_hyp_Accuracy_selected:\",round(metrics.accuracy_score(Y_train_sel, Y_pred_rf_hyp_train_selected),2))\n",
    "print(\"RF_Train_precision_recall_f1_score_hyp_all:\",precision_recall_fscore_support(Y_train, Y_pred_rf_hyp_train_all, average='binary'))\n",
    "print(\"RF_Train_precision_recall_f1_score_hyp_sel:\",precision_recall_fscore_support(Y_train_sel, Y_pred_rf_hyp_train_selected, average='binary'))\n",
    "print(\"\\n\")\n",
    "print(\"Testing Metrics\")\n",
    "print(\"============================\")\n",
    "print(\"RF_hyp_Accuracy_all:\",round(metrics.accuracy_score(Y_test, Y_pred_rf_hyp_test_all),2))\n",
    "print(\"RF_hyp_Accuracy_selected:\",round(metrics.accuracy_score(Y_test_sel, Y_pred_rf_hyp_test_selected),2))\n",
    "print(\"RF_Test_precision_recall_f1_score_hyp_all:\",precision_recall_fscore_support(Y_test, Y_pred_rf_hyp_test_all, average='binary'))\n",
    "print(\"RF_Test_precision_recall_f1_score_hyp_sel:\",precision_recall_fscore_support(Y_test_sel, Y_pred_rf_hyp_test_selected, average='binary'))\n",
    "# print(\"\\n\")\n",
    "# print(\"Validation Metrics\")\n",
    "# print(\"============================\")\n",
    "# print(\"RF_hyp_Accuracy_all:\",round(metrics.accuracy_score(Y_val, Y_pred_rf_hyp_val_all),2))\n",
    "# print(\"RF_hyp_Accuracy_selected:\",round(metrics.accuracy_score(Y_val_sel, Y_pred_rf_hyp_val_selected),2))\n",
    "# print(\"RF_Val_precision_recall_f1_score_hyp_all:\",precision_recall_fscore_support(Y_val, Y_pred_rf_hyp_val_all, average='binary'))\n",
    "# print(\"RF_Val_precision_recall_f1_score_hyp_sel:\",precision_recall_fscore_support(Y_val_sel, Y_pred_rf_hyp_val_selected, average='binary'))\n"
   ]
  },
  {
   "cell_type": "markdown",
   "metadata": {},
   "source": [
    "### SVM"
   ]
  },
  {
   "cell_type": "markdown",
   "metadata": {},
   "source": [
    "#### With all and selected features"
   ]
  },
  {
   "cell_type": "markdown",
   "metadata": {},
   "source": [
    "#### with RBF Kernel"
   ]
  },
  {
   "cell_type": "code",
   "execution_count": 72,
   "metadata": {},
   "outputs": [
    {
     "name": "stderr",
     "output_type": "stream",
     "text": [
      "/Users/lawrence/opt/anaconda3/lib/python3.8/site-packages/sklearn/utils/validation.py:72: DataConversionWarning: A column-vector y was passed when a 1d array was expected. Please change the shape of y to (n_samples, ), for example using ravel().\n",
      "  return f(**kwargs)\n",
      "/Users/lawrence/opt/anaconda3/lib/python3.8/site-packages/sklearn/utils/validation.py:72: DataConversionWarning: A column-vector y was passed when a 1d array was expected. Please change the shape of y to (n_samples, ), for example using ravel().\n",
      "  return f(**kwargs)\n"
     ]
    }
   ],
   "source": [
    "svclassifier_rbf_all = SVC(kernel='rbf',probability=True).fit(X_train, Y_train)\n",
    "svclassifier_rbf_sel = SVC(kernel='rbf',probability=True).fit(X_train_sel, Y_train_sel)\n",
    "\n",
    "#Prediction and evaluation\n",
    "# Training prediction\n",
    "Y_svm_train_pred_all = svclassifier_rbf_all.predict(X_train)\n",
    "Y_svm_train_pred_sel = svclassifier_rbf_sel.predict(X_train_sel)\n",
    "\n",
    "# Testing prediction\n",
    "Y_svm_test_pred_all = svclassifier_rbf_all.predict(X_test)\n",
    "Y_svm_test_pred_sel = svclassifier_rbf_sel.predict(X_test_sel)\n",
    "\n",
    "# # Validation prediction\n",
    "# Y_svm_val_pred_all = svclassifier_rbf_all.predict(X_val)\n",
    "# Y_svm_val_pred_sel = svclassifier_rbf_sel.predict(X_val_sel)\n",
    "\n"
   ]
  },
  {
   "cell_type": "code",
   "execution_count": 73,
   "metadata": {},
   "outputs": [
    {
     "name": "stdout",
     "output_type": "stream",
     "text": [
      "Training Metrics\n",
      "============================\n",
      "SVM_Accuracy_all: 0.98\n",
      "SVM_Accuracy_selected: 0.97\n",
      "SVM_Train_precision_recall_f1_score_all: (0.9672131147540983, 0.9833333333333333, 0.9752066115702478, None)\n",
      "SVM_Train_precision_recall_f1_score_sel: (0.9668508287292817, 0.9722222222222222, 0.9695290858725762, None)\n",
      "\n",
      "\n",
      "Testing Metrics\n",
      "============================\n",
      "SVM_Accuracy_all: 0.98\n",
      "SVM_Accuracy_selected: 0.99\n",
      "SVM_Test_precision_recall_f1_score_all: (0.9807692307692307, 0.9622641509433962, 0.9714285714285713, None)\n",
      "SVM_Test_precision_recall_f1_score_sel: (1.0, 0.9622641509433962, 0.9807692307692307, None)\n"
     ]
    }
   ],
   "source": [
    "print(\"Training Metrics\")\n",
    "print(\"============================\")\n",
    "print(\"SVM_Accuracy_all:\",round(metrics.accuracy_score(Y_train, Y_svm_train_pred_all),2))\n",
    "print(\"SVM_Accuracy_selected:\",round(metrics.accuracy_score(Y_train_sel, Y_svm_train_pred_sel),2))\n",
    "print(\"SVM_Train_precision_recall_f1_score_all:\",precision_recall_fscore_support(Y_train, Y_svm_train_pred_all, average='binary'))\n",
    "print(\"SVM_Train_precision_recall_f1_score_sel:\",precision_recall_fscore_support(Y_train_sel, Y_svm_train_pred_sel, average='binary'))\n",
    "print(\"\\n\")\n",
    "print(\"Testing Metrics\")\n",
    "print(\"============================\")\n",
    "print(\"SVM_Accuracy_all:\",round(metrics.accuracy_score(Y_test, Y_svm_test_pred_all),2))\n",
    "print(\"SVM_Accuracy_selected:\",round(metrics.accuracy_score(Y_test_sel, Y_svm_test_pred_sel),2))\n",
    "print(\"SVM_Test_precision_recall_f1_score_all:\",precision_recall_fscore_support(Y_test, Y_svm_test_pred_all, average='binary'))\n",
    "print(\"SVM_Test_precision_recall_f1_score_sel:\",precision_recall_fscore_support(Y_test_sel, Y_svm_test_pred_sel, average='binary'))\n",
    "# print(\"\\n\")\n",
    "# print(\"Validation Metrics\")\n",
    "# print(\"============================\")\n",
    "# print(\"SVM_Accuracy_all:\",round(metrics.accuracy_score(Y_val, Y_svm_val_pred_all),2))\n",
    "# print(\"SVM_Accuracy_selected:\",round(metrics.accuracy_score(Y_val_sel, Y_svm_val_pred_sel),2))\n",
    "# print(\"SVM_Val_precision_recall_f1_score_all:\",precision_recall_fscore_support(Y_val, Y_svm_val_pred_all, average='binary'))\n",
    "# print(\"SVM_Val_precision_recall_f1_score_sel:\",precision_recall_fscore_support(Y_val_sel, Y_svm_val_pred_sel, average='binary'))\n"
   ]
  },
  {
   "cell_type": "markdown",
   "metadata": {},
   "source": [
    "#### With Sigmoid kernel"
   ]
  },
  {
   "cell_type": "code",
   "execution_count": 74,
   "metadata": {},
   "outputs": [
    {
     "name": "stderr",
     "output_type": "stream",
     "text": [
      "/Users/lawrence/opt/anaconda3/lib/python3.8/site-packages/sklearn/utils/validation.py:72: DataConversionWarning: A column-vector y was passed when a 1d array was expected. Please change the shape of y to (n_samples, ), for example using ravel().\n",
      "  return f(**kwargs)\n",
      "/Users/lawrence/opt/anaconda3/lib/python3.8/site-packages/sklearn/utils/validation.py:72: DataConversionWarning: A column-vector y was passed when a 1d array was expected. Please change the shape of y to (n_samples, ), for example using ravel().\n",
      "  return f(**kwargs)\n"
     ]
    }
   ],
   "source": [
    "svclassifier_sig_all = SVC(kernel='sigmoid',probability=True).fit(X_train, Y_train)\n",
    "svclassifier_sig_sel = SVC(kernel='sigmoid',probability=True).fit(X_train_sel, Y_train_sel)\n",
    "\n",
    "#Prediction and evaluation\n",
    "# Training prediction\n",
    "Y_svm_sig_train_pred_all = svclassifier_sig_all.predict(X_train)\n",
    "Y_svm_sig_train_pred_sel = svclassifier_sig_sel.predict(X_train_sel)\n",
    "\n",
    "# Testing prediction\n",
    "Y_svm_sig_test_pred_all = svclassifier_sig_all.predict(X_test)\n",
    "Y_svm_sig_test_pred_sel = svclassifier_sig_sel.predict(X_test_sel)\n",
    "\n",
    "# # Validation prediction\n",
    "# Y_svm_sig_val_pred_all = svclassifier_sig_all.predict(X_val)\n",
    "# Y_svm_sig_val_pred_sel = svclassifier_sig_sel.predict(X_val_sel)\n"
   ]
  },
  {
   "cell_type": "code",
   "execution_count": 75,
   "metadata": {},
   "outputs": [
    {
     "name": "stdout",
     "output_type": "stream",
     "text": [
      "Training Metrics\n",
      "============================\n",
      "SVM_sig_Accuracy_all: 0.61\n",
      "SVM_sig_Accuracy_selected: 0.7\n",
      "SVM_sig_Train_precision_recall_f1_score_all: (0.5574712643678161, 0.5388888888888889, 0.5480225988700566, None)\n",
      "SVM_sig_Train_precision_recall_f1_score_sel: (0.6666666666666666, 0.6222222222222222, 0.6436781609195403, None)\n",
      "\n",
      "\n",
      "Testing Metrics\n",
      "============================\n",
      "SVM_sig_Accuracy_all: 0.61\n",
      "SVM_sig_Accuracy_selected: 0.71\n",
      "SVM_sig_Test_precision_recall_f1_score_all: (0.5, 0.5283018867924528, 0.5137614678899083, None)\n",
      "SVM_sig_Test_precision_recall_f1_score_sel: (0.6444444444444445, 0.5471698113207547, 0.5918367346938775, None)\n"
     ]
    }
   ],
   "source": [
    "print(\"Training Metrics\")\n",
    "print(\"============================\")\n",
    "print(\"SVM_sig_Accuracy_all:\",round(metrics.accuracy_score(Y_train, Y_svm_sig_train_pred_all),2))\n",
    "print(\"SVM_sig_Accuracy_selected:\",round(metrics.accuracy_score(Y_train_sel, Y_svm_sig_train_pred_sel),2))\n",
    "print(\"SVM_sig_Train_precision_recall_f1_score_all:\",precision_recall_fscore_support(Y_train, Y_svm_sig_train_pred_all, average='binary'))\n",
    "print(\"SVM_sig_Train_precision_recall_f1_score_sel:\",precision_recall_fscore_support(Y_train_sel, Y_svm_sig_train_pred_sel, average='binary'))\n",
    "print(\"\\n\")\n",
    "print(\"Testing Metrics\")\n",
    "print(\"============================\")\n",
    "print(\"SVM_sig_Accuracy_all:\",round(metrics.accuracy_score(Y_test, Y_svm_sig_test_pred_all),2))\n",
    "print(\"SVM_sig_Accuracy_selected:\",round(metrics.accuracy_score(Y_test_sel, Y_svm_sig_test_pred_sel),2))\n",
    "print(\"SVM_sig_Test_precision_recall_f1_score_all:\",precision_recall_fscore_support(Y_test, Y_svm_sig_test_pred_all, average='binary'))\n",
    "print(\"SVM_sig_Test_precision_recall_f1_score_sel:\",precision_recall_fscore_support(Y_test_sel, Y_svm_sig_test_pred_sel, average='binary'))\n",
    "# print(\"\\n\")\n",
    "# print(\"Validation Metrics\")\n",
    "# print(\"============================\")\n",
    "# print(\"SVM_sig_Accuracy_all:\",round(metrics.accuracy_score(Y_val, Y_svm_sig_val_pred_all),2))\n",
    "# print(\"SVM_sig_Accuracy_selected:\",round(metrics.accuracy_score(Y_val_sel, Y_svm_sig_val_pred_sel),2))\n",
    "# print(\"SVM_sig_Val_precision_recall_f1_score_all:\",precision_recall_fscore_support(Y_val, Y_svm_sig_val_pred_all, average='binary'))\n",
    "# print(\"SVM_sig_Val_precision_recall_f1_score_sel:\",precision_recall_fscore_support(Y_val_sel, Y_svm_sig_val_pred_sel, average='binary'))\n"
   ]
  },
  {
   "cell_type": "markdown",
   "metadata": {},
   "source": [
    "#### With Polynomial kernel"
   ]
  },
  {
   "cell_type": "code",
   "execution_count": 80,
   "metadata": {},
   "outputs": [
    {
     "name": "stderr",
     "output_type": "stream",
     "text": [
      "/Users/lawrence/opt/anaconda3/lib/python3.8/site-packages/sklearn/utils/validation.py:72: DataConversionWarning: A column-vector y was passed when a 1d array was expected. Please change the shape of y to (n_samples, ), for example using ravel().\n",
      "  return f(**kwargs)\n",
      "/Users/lawrence/opt/anaconda3/lib/python3.8/site-packages/sklearn/utils/validation.py:72: DataConversionWarning: A column-vector y was passed when a 1d array was expected. Please change the shape of y to (n_samples, ), for example using ravel().\n",
      "  return f(**kwargs)\n"
     ]
    }
   ],
   "source": [
    "svclassifier_poly_all = SVC(kernel='poly',probability=True,degree=5).fit(X_train, Y_train)\n",
    "svclassifier_poly_sel = SVC(kernel='poly',probability=True, degree=5).fit(X_train_sel, Y_train_sel)\n",
    "\n",
    "#Prediction and evaluation\n",
    "# Training prediction\n",
    "Y_svm_poly_train_pred_all = svclassifier_poly_all.predict(X_train)\n",
    "Y_svm_poly_train_pred_sel = svclassifier_poly_sel.predict(X_train_sel)\n",
    "\n",
    "# Testing prediction\n",
    "Y_svm_poly_test_pred_all = svclassifier_poly_all.predict(X_test)\n",
    "Y_svm_poly_test_pred_sel = svclassifier_poly_sel.predict(X_test_sel)\n",
    "\n",
    "# Validation prediction\n",
    "# Y_svm_poly_val_pred_all = svclassifier_poly_all.predict(X_val)\n",
    "# Y_svm_poly_val_pred_sel = svclassifier_poly_sel.predict(X_val_sel)\n"
   ]
  },
  {
   "cell_type": "code",
   "execution_count": 81,
   "metadata": {},
   "outputs": [
    {
     "name": "stdout",
     "output_type": "stream",
     "text": [
      "Training Metrics\n",
      "============================\n",
      "SVM_poly_Accuracy_all: 0.95\n",
      "SVM_poly_Accuracy_selected: 0.95\n",
      "SVM_poly_Train_precision_recall_f1_score_all: (0.9542857142857143, 0.9277777777777778, 0.9408450704225352, None)\n",
      "SVM_poly_Train_precision_recall_f1_score_sel: (0.9877300613496932, 0.8944444444444445, 0.9387755102040817, None)\n",
      "\n",
      "\n",
      "Testing Metrics\n",
      "============================\n",
      "SVM_poly_Accuracy_all: 0.91\n",
      "SVM_poly_Accuracy_selected: 0.93\n",
      "SVM_poly_Test_precision_recall_f1_score_all: (0.9183673469387755, 0.8490566037735849, 0.8823529411764707, None)\n",
      "SVM_poly_Test_precision_recall_f1_score_sel: (0.9782608695652174, 0.8490566037735849, 0.9090909090909092, None)\n"
     ]
    }
   ],
   "source": [
    "print(\"Training Metrics\")\n",
    "print(\"============================\")\n",
    "print(\"SVM_poly_Accuracy_all:\",round(metrics.accuracy_score(Y_train, Y_svm_poly_train_pred_all),2))\n",
    "print(\"SVM_poly_Accuracy_selected:\",round(metrics.accuracy_score(Y_train_sel, Y_svm_poly_train_pred_sel),2))\n",
    "print(\"SVM_poly_Train_precision_recall_f1_score_all:\",precision_recall_fscore_support(Y_train, Y_svm_poly_train_pred_all, average='binary'))\n",
    "print(\"SVM_poly_Train_precision_recall_f1_score_sel:\",precision_recall_fscore_support(Y_train_sel, Y_svm_poly_train_pred_sel, average='binary'))\n",
    "print(\"\\n\")\n",
    "print(\"Testing Metrics\")\n",
    "print(\"============================\")\n",
    "print(\"SVM_poly_Accuracy_all:\",round(metrics.accuracy_score(Y_test, Y_svm_poly_test_pred_all),2))\n",
    "print(\"SVM_poly_Accuracy_selected:\",round(metrics.accuracy_score(Y_test_sel, Y_svm_poly_test_pred_sel),2))\n",
    "print(\"SVM_poly_Test_precision_recall_f1_score_all:\",precision_recall_fscore_support(Y_test, Y_svm_poly_test_pred_all, average='binary'))\n",
    "print(\"SVM_poly_Test_precision_recall_f1_score_sel:\",precision_recall_fscore_support(Y_test_sel, Y_svm_poly_test_pred_sel, average='binary'))\n",
    "# print(\"\\n\")\n",
    "# print(\"Validation Metrics\")\n",
    "# print(\"============================\")\n",
    "# print(\"SVM_poly_Accuracy_all:\",round(metrics.accuracy_score(Y_val, Y_svm_poly_val_pred_all),2))\n",
    "# print(\"SVM_poly_Accuracy_selected:\",round(metrics.accuracy_score(Y_val_sel, Y_svm_poly_val_pred_sel),2))\n",
    "# print(\"SVM_poly_Val_precision_recall_f1_score_all:\",precision_recall_fscore_support(Y_val, Y_svm_poly_val_pred_all, average='binary'))\n",
    "# print(\"SVM_poly_Val_precision_recall_f1_score_sel:\",precision_recall_fscore_support(Y_val_sel, Y_svm_poly_val_pred_sel, average='binary'))\n"
   ]
  },
  {
   "cell_type": "markdown",
   "metadata": {},
   "source": [
    "### Finding hyperparameters for SVM"
   ]
  },
  {
   "cell_type": "code",
   "execution_count": null,
   "metadata": {},
   "outputs": [],
   "source": [
    "# defining parameter range\n",
    "param_grid = {'C': [0.1, 1, 10, 100, 1000],\n",
    "              'gamma': [1, 0.1, 0.01, 0.001, 0.0001],\n",
    "              'degree':[1,2,3,4,5,6,7,8,9,10,11,12,13,14,15,16,17,18,19,20],\n",
    "              'kernel': ['rbf','sigmoid','poly']}\n",
    "\n",
    "svm_cv_all = SVC()\n",
    "grid_cv_all = GridSearchCV(svm_cv_all, param_grid, scoring=\"f1\", n_jobs=-1, cv=3).fit(X_train, Y_train)\n",
    "\n",
    "print(\"Data with all features\")\n",
    "print(\"Param for DT with all features\", grid_cv_all.best_params_)\n",
    "print(\"CV score for DT with all features\", grid_cv_all.best_score_)\n",
    "print(\"Train F1 Score for train with all features: \", metrics.f1_score(Y_train, grid_cv_all.predict(X_train)))\n",
    "print(\"Test F1 Score for test with all features: \", metrics.f1_score(Y_test, grid_cv_all.predict(X_test)))\n",
    "# print(\"Test F1 Score for valid with all features: \", metrics.f1_score(Y_val, grid_cv_all.predict(X_val)))\n",
    "\n",
    "print(\"Classification report for data with all features\")\n",
    "grid_svm_all_prediction_train = grid_cv_all.predict(X_train)\n",
    "\n",
    "# print classification report \n",
    "print(\"Training\")\n",
    "print(metrics.classification_report(Y_train, grid_svm_all_prediction_train)) \n",
    "\n",
    "grid_svm_all_prediction_test = grid_cv_all.predict(X_test) \n",
    "  \n",
    "# print classification report \n",
    "print(\"Testing\")\n",
    "print(metrics.classification_report(Y_test, grid_svm_all_prediction_test)) \n",
    "\n",
    "# grid_svm_all_prediction_val = grid_cv_all.predict(X_val) \n",
    "  \n",
    "# print classification report \n",
    "# print(\"Validation\")\n",
    "# print(metrics.classification_report(Y_val, grid_svm_all_prediction_val)) \n"
   ]
  },
  {
   "cell_type": "code",
   "execution_count": null,
   "metadata": {},
   "outputs": [],
   "source": [
    "# defining parameter range\n",
    "param_grid_sel = {'C': [0.1, 1, 10, 100, 1000],\n",
    "              'gamma': [1, 0.1, 0.01, 0.001, 0.0001],\n",
    "              'kernel': ['rbf','sigmoid']}\n",
    "\n",
    "svc_cv_sel = SVC()\n",
    "grid_cv_sel = GridSearchCV(svc_cv_sel, param_grid_sel, scoring=\"f1\", n_jobs=-1, cv=3).fit(X_train_sel, Y_train_sel)\n",
    "\n",
    "print(\"\\n\")\n",
    "print(\"PCA dataset\")\n",
    "print(\"Param for DT with all features\", grid_cv_all.best_params_)\n",
    "print(\"CV score for DT with all features\", grid_cv_all.best_score_)\n",
    "print(\"Train F1 Score for train with selected features: \", metrics.f1_score(Y_train_sel, grid_cv_sel.predict(X_train_sel)))\n",
    "print(\"Test F1 Score for test with selected features: \", metrics.f1_score(Y_test_sel, grid_cv_sel.predict(X_test_sel)))\n",
    "# print(\"Test F1 Score for valid with selected features: \", metrics.f1_score(Y_val_sel, grid_cv_sel.predict(X_val_sel)))\n",
    "\n",
    "\n",
    "print(\"\\n Classification report for data with selected features\")\n",
    "grid_svm_sel_prediction_train = grid_cv_sel.predict(X_train_sel)\n",
    "\n",
    "# print classification report \n",
    "print(\"Training\")\n",
    "print(metrics.classification_report(Y_train_sel, grid_svm_sel_prediction_train)) \n",
    "\n",
    "grid_svm_sel_prediction_test = grid_cv_sel.predict(X_test_sel) \n",
    "  \n",
    "# print classification report \n",
    "print(\"Testing\")\n",
    "print(metrics.classification_report(Y_test_sel, grid_svm_sel_prediction_test)) \n",
    "\n",
    "# grid_svm_sel_prediction_val = grid_cv_sel.predict(X_val_sel) \n",
    "  \n",
    "# print classification report\n",
    "# print(\"Validation\")\n",
    "# print(metrics.classification_report(Y_val_sel, grid_svm_sel_prediction_val)) \n",
    "\n"
   ]
  },
  {
   "cell_type": "markdown",
   "metadata": {},
   "source": [
    "### SVM with hyperparameters"
   ]
  },
  {
   "cell_type": "code",
   "execution_count": 94,
   "metadata": {},
   "outputs": [
    {
     "name": "stderr",
     "output_type": "stream",
     "text": [
      "/Users/lawrence/opt/anaconda3/lib/python3.8/site-packages/sklearn/utils/validation.py:72: DataConversionWarning: A column-vector y was passed when a 1d array was expected. Please change the shape of y to (n_samples, ), for example using ravel().\n",
      "  return f(**kwargs)\n",
      "/Users/lawrence/opt/anaconda3/lib/python3.8/site-packages/sklearn/utils/validation.py:72: DataConversionWarning: A column-vector y was passed when a 1d array was expected. Please change the shape of y to (n_samples, ), for example using ravel().\n",
      "  return f(**kwargs)\n"
     ]
    }
   ],
   "source": [
    "svclassifier_rbf_hyp_all = SVC(kernel='rbf',probability=True,C=1,gamma=0.2).fit(X_train, Y_train)\n",
    "svclassifier_rbf_hyp_sel = SVC(kernel='rbf',probability=True,C=1,gamma=0.2).fit(X_train_sel, Y_train_sel)\n",
    "\n",
    "#Prediction and evaluation\n",
    "# Training prediction\n",
    "Y_svm_hyp_train_pred_all = svclassifier_rbf_hyp_all.predict(X_train)\n",
    "Y_svm_hyp_train_pred_sel = svclassifier_rbf_hyp_sel.predict(X_train_sel)\n",
    "\n",
    "# Testing prediction\n",
    "Y_svm_hyp_test_pred_all = svclassifier_rbf_hyp_all.predict(X_test)\n",
    "Y_svm_hyp_test_pred_sel = svclassifier_rbf_hyp_sel.predict(X_test_sel)\n",
    "\n",
    "# Validation prediction\n",
    "# Y_svm_hyp_val_pred_all = svclassifier_rbf_hyp_all.predict(X_val)\n",
    "# Y_svm_hyp_val_pred_sel = svclassifier_rbf_hyp_sel.predict(X_val_sel)\n",
    "\n"
   ]
  },
  {
   "cell_type": "code",
   "execution_count": 95,
   "metadata": {},
   "outputs": [
    {
     "name": "stdout",
     "output_type": "stream",
     "text": [
      "Training Metrics\n",
      "============================\n",
      "SVM_hyp_Accuracy_all: 0.98\n",
      "SVM_hyp_Accuracy_selected: 0.97\n",
      "SVM_hyp_Train_precision_recall_f1_score_all: (0.9672131147540983, 0.9833333333333333, 0.9752066115702478, None)\n",
      "SVM_hyp_Train_precision_recall_f1_score_sel: (0.9611111111111111, 0.9611111111111111, 0.9611111111111111, None)\n",
      "\n",
      "\n",
      "Testing Metrics\n",
      "============================\n",
      "SVM_hyp_Accuracy_all: 0.99\n",
      "SVM_hyp_Accuracy_selected: 0.97\n",
      "SVM_hyp_Test_precision_recall_f1_score_all: (1.0, 0.9622641509433962, 0.9807692307692307, None)\n",
      "SVM_hyp_Test_precision_recall_f1_score_sel: (0.9622641509433962, 0.9622641509433962, 0.9622641509433962, None)\n"
     ]
    }
   ],
   "source": [
    "print(\"Training Metrics\")\n",
    "print(\"============================\")\n",
    "print(\"SVM_hyp_Accuracy_all:\",round(metrics.accuracy_score(Y_train, Y_svm_hyp_train_pred_all),2))\n",
    "print(\"SVM_hyp_Accuracy_selected:\",round(metrics.accuracy_score(Y_train_sel, Y_svm_hyp_train_pred_sel),2))\n",
    "print(\"SVM_hyp_Train_precision_recall_f1_score_all:\",precision_recall_fscore_support(Y_train, Y_svm_hyp_train_pred_all, average='binary'))\n",
    "print(\"SVM_hyp_Train_precision_recall_f1_score_sel:\",precision_recall_fscore_support(Y_train_sel, Y_svm_hyp_train_pred_sel, average='binary'))\n",
    "print(\"\\n\")\n",
    "print(\"Testing Metrics\")\n",
    "print(\"============================\")\n",
    "print(\"SVM_hyp_Accuracy_all:\",round(metrics.accuracy_score(Y_test, Y_svm_hyp_test_pred_all),2))\n",
    "print(\"SVM_hyp_Accuracy_selected:\",round(metrics.accuracy_score(Y_test_sel, Y_svm_hyp_test_pred_sel),2))\n",
    "print(\"SVM_hyp_Test_precision_recall_f1_score_all:\",precision_recall_fscore_support(Y_test, Y_svm_hyp_test_pred_all, average='binary'))\n",
    "print(\"SVM_hyp_Test_precision_recall_f1_score_sel:\",precision_recall_fscore_support(Y_test_sel, Y_svm_hyp_test_pred_sel, average='binary'))\n",
    "# print(\"\\n\")\n",
    "# print(\"Validation Metrics\")\n",
    "# print(\"============================\")\n",
    "# print(\"SVM_hyp_Accuracy_all:\",round(metrics.accuracy_score(Y_val, Y_svm_hyp_val_pred_all),2))\n",
    "# print(\"SVM_hyp_Accuracy_selected:\",round(metrics.accuracy_score(Y_val_sel, Y_svm_hyp_val_pred_sel),2))\n",
    "# print(\"SVM_hyp_Val_precision_recall_f1_score_all:\",precision_recall_fscore_support(Y_val, Y_svm_hyp_val_pred_all, average='binary'))\n",
    "# print(\"SVM_hyp_Val_precision_recall_f1_score_sel:\",precision_recall_fscore_support(Y_val_sel, Y_svm_hyp_val_pred_sel, average='binary'))\n"
   ]
  },
  {
   "cell_type": "code",
   "execution_count": null,
   "metadata": {},
   "outputs": [],
   "source": []
  }
 ],
 "metadata": {
  "kernelspec": {
   "display_name": "Python 3",
   "language": "python",
   "name": "python3"
  },
  "language_info": {
   "codemirror_mode": {
    "name": "ipython",
    "version": 3
   },
   "file_extension": ".py",
   "mimetype": "text/x-python",
   "name": "python",
   "nbconvert_exporter": "python",
   "pygments_lexer": "ipython3",
   "version": "3.8.5"
  }
 },
 "nbformat": 4,
 "nbformat_minor": 5
}
